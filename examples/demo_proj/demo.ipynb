{
 "cells": [
  {
   "cell_type": "markdown",
   "id": "caa3aac4-74b5-43d3-8c47-c5f38a9e0699",
   "metadata": {},
   "source": [
    "# Lean 4 Jupyter Notebook Demo for use in projects"
   ]
  },
  {
   "cell_type": "markdown",
   "id": "2a5612bb-d4d3-486a-a47d-0d206f03fbbb",
   "metadata": {},
   "source": [
    "`demo_proj` is created with `lake new demo_proj`, added only the following in `lakefile.lean` then initialized with `lake -R update`.\n",
    "\n",
    "```\n",
    "def leanVersion : String := s!\"v{Lean.versionString}\"\n",
    "\n",
    "require mathlib from git\n",
    "  \"https://github.com/leanprover-community/mathlib4\" @ leanVersion\n",
    "```\n",
    "\n",
    "You need to run `lake build` to ensure it builds before using this notebook.\n",
    "\n",
    "Open this notebook from the root of the project, then Lean 4 will pick up the proper Lean toolchain and set up required packages. You may use the following Lean code to confirm the current working directory:\n",
    "\n",
    "```\n",
    "#eval do\n",
    "  return (← IO.currentDir)\n",
    "```"
   ]
  },
  {
   "cell_type": "code",
   "execution_count": 1,
   "id": "acaab9f8-782b-4190-b523-0e217e066ae5",
   "metadata": {},
   "outputs": [
    {
     "data": {
      "text/html": [
       "\n",
       "        \n",
       "        <link rel=\"stylesheet\" href=\"https://lean-lang.org/lean4/doc/alectryon.css\">\n",
       "        <link rel=\"stylesheet\" href=\"https://lean-lang.org/lean4/doc/pygments.css\">\n",
       "        <script src=\"https://lean-lang.org/lean4/doc/alectryon.js\"></script>\n",
       "        <script src=\"https://lean-lang.org/lean4/doc/highlight.js\"></script>\n",
       "        <style>\n",
       "            @media (any-hover: hover) {\n",
       "                .alectryon-io .alectryon-sentence:hover .alectryon-output,\n",
       "                .alectryon-io .alectryon-token:hover .alectryon-type-info-wrapper,\n",
       "                .alectryon-io .alectryon-token:hover .alectryon-type-info-wrapper {\n",
       "                    position: unset;\n",
       "                }\n",
       "            }\n",
       "\n",
       "            .highlight .w, .code .w {\n",
       "                color: #d3d7cf;\n",
       "                text-decoration: none;\n",
       "            }\n",
       "\n",
       "            body[data-jp-theme-light=\"false\"] .alectryon-io .alectryon-goals,\n",
       "            body[data-jp-theme-light=\"false\"] .alectryon-io .alectryon-messages,\n",
       "            body[data-jp-theme-light=\"false\"] .alectryon-io .alectryon-goal,\n",
       "            body[data-jp-theme-light=\"false\"] .alectryon-io .alectryon-message {\n",
       "                background: black;\n",
       "            }\n",
       "        </style>\n",
       "    \n",
       "        <div class=\"alectryon-root alectryon-centered\">\n",
       "            <pre class=\"alectryon-io type-info-hidden highlight\"><!-- Generator: Alectryon --><span class=\"alectryon-sentence\"><input class=\"alectryon-toggle\" id=\"chk0\" style=\"display: none\" type=\"checkbox\"><label class=\"alectryon-input\" for=\"chk0\"><span class=\"k\">#eval</span><span class=\"w\"> </span>Lean.versionString</label><small class=\"alectryon-output\"><div><div class=\"alectryon-messages\"><blockquote class=\"alectryon-message\"> <span class=\"s2\">&quot;4.8.0-rc1&quot;</span></blockquote></div></div></small></span></pre>\n",
       "<pre class=\"alectryon-io type-info-hidden highlight\"><!-- Generator: Alectryon --><span class=\"alectryon-sentence\"><span class=\"alectryon-input\"><span class=\"c1\">--% env 0</span></span></span></pre>\n",
       "        </div>\n",
       "        <details>\n",
       "            <summary>Raw input</summary>\n",
       "            <code>{\"cmd\": \"#eval Lean.versionString\"}</code>\n",
       "        </details>\n",
       "        <details>\n",
       "            <summary>Raw output</summary>\n",
       "            <code>{\"messages\":\r\n",
       " [{\"severity\": \"info\",\r\n",
       "   \"pos\": {\"line\": 1, \"column\": 0},\r\n",
       "   \"endPos\": {\"line\": 1, \"column\": 5},\r\n",
       "   \"data\": \"\\\"4.8.0-rc1\\\"\"}],\r\n",
       " \"env\": 0}</code>\n",
       "        </details>\n",
       "    "
      ],
      "text/plain": [
       "#eval Lean.versionString\n",
       "─────▶  \"4.8.0-rc1\"\n",
       "--% env 0\n",
       "\n",
       "Raw input:\n",
       "{\"cmd\": \"#eval Lean.versionString\"}\n",
       "Raw output:\n",
       "{\"messages\":\r\n",
       " [{\"severity\": \"info\",\r\n",
       "   \"pos\": {\"line\": 1, \"column\": 0},\r\n",
       "   \"endPos\": {\"line\": 1, \"column\": 5},\r\n",
       "   \"data\": \"\\\"4.8.0-rc1\\\"\"}],\r\n",
       " \"env\": 0}"
      ]
     },
     "metadata": {},
     "output_type": "display_data"
    }
   ],
   "source": [
    "#eval Lean.versionString"
   ]
  },
  {
   "cell_type": "markdown",
   "id": "82c0cac6-1da5-46b1-aee0-fad77cf2e2dd",
   "metadata": {},
   "source": [
    "Lean only allows import at the beginning of a \"file\". But in Jupyter notebook, not only you can import at the beginning of a notebook, you can also do so in the middle of a notebook by resetting the environment to an empty one using `--%env` or simply `%env`."
   ]
  },
  {
   "cell_type": "code",
   "execution_count": 2,
   "id": "5f7ad55f-28ef-450a-9e77-acd87bcfcae4",
   "metadata": {},
   "outputs": [
    {
     "data": {
      "text/html": [
       "\n",
       "        \n",
       "        <link rel=\"stylesheet\" href=\"https://lean-lang.org/lean4/doc/alectryon.css\">\n",
       "        <link rel=\"stylesheet\" href=\"https://lean-lang.org/lean4/doc/pygments.css\">\n",
       "        <script src=\"https://lean-lang.org/lean4/doc/alectryon.js\"></script>\n",
       "        <script src=\"https://lean-lang.org/lean4/doc/highlight.js\"></script>\n",
       "        <style>\n",
       "            @media (any-hover: hover) {\n",
       "                .alectryon-io .alectryon-sentence:hover .alectryon-output,\n",
       "                .alectryon-io .alectryon-token:hover .alectryon-type-info-wrapper,\n",
       "                .alectryon-io .alectryon-token:hover .alectryon-type-info-wrapper {\n",
       "                    position: unset;\n",
       "                }\n",
       "            }\n",
       "\n",
       "            .highlight .w, .code .w {\n",
       "                color: #d3d7cf;\n",
       "                text-decoration: none;\n",
       "            }\n",
       "\n",
       "            body[data-jp-theme-light=\"false\"] .alectryon-io .alectryon-goals,\n",
       "            body[data-jp-theme-light=\"false\"] .alectryon-io .alectryon-messages,\n",
       "            body[data-jp-theme-light=\"false\"] .alectryon-io .alectryon-goal,\n",
       "            body[data-jp-theme-light=\"false\"] .alectryon-io .alectryon-message {\n",
       "                background: black;\n",
       "            }\n",
       "        </style>\n",
       "    \n",
       "        <div class=\"alectryon-root alectryon-centered\">\n",
       "            <pre class=\"alectryon-io type-info-hidden highlight\"><!-- Generator: Alectryon --><span class=\"alectryon-sentence\"><span class=\"alectryon-input\"><span class=\"c1\">--%env</span></span></span></pre>\n",
       "<pre class=\"alectryon-io type-info-hidden highlight\"><!-- Generator: Alectryon --><span class=\"alectryon-sentence\"><span class=\"alectryon-input\"><span class=\"kn\">import</span><span class=\"w\"> </span>Mathlib</span></span></pre>\n",
       "<pre class=\"alectryon-io type-info-hidden highlight\"><!-- Generator: Alectryon --><span class=\"alectryon-sentence\"><span class=\"alectryon-input\"><span class=\"c1\">--% env 1</span></span></span></pre>\n",
       "        </div>\n",
       "        <details>\n",
       "            <summary>Raw input</summary>\n",
       "            <code>{\"cmd\": \"--%env\\nimport Mathlib\"}</code>\n",
       "        </details>\n",
       "        <details>\n",
       "            <summary>Raw output</summary>\n",
       "            <code>{\"env\": 1}</code>\n",
       "        </details>\n",
       "    "
      ],
      "text/plain": [
       "--%env\n",
       "import Mathlib\n",
       "--% env 1\n",
       "\n",
       "Raw input:\n",
       "{\"cmd\": \"--%env\\nimport Mathlib\"}\n",
       "Raw output:\n",
       "{\"env\": 1}"
      ]
     },
     "metadata": {},
     "output_type": "display_data"
    }
   ],
   "source": [
    "%env\n",
    "import Mathlib"
   ]
  },
  {
   "cell_type": "code",
   "execution_count": 3,
   "id": "b0465a38-4c08-44c6-8294-11e1bd4d8c43",
   "metadata": {},
   "outputs": [
    {
     "data": {
      "text/html": [
       "\n",
       "        \n",
       "        <link rel=\"stylesheet\" href=\"https://lean-lang.org/lean4/doc/alectryon.css\">\n",
       "        <link rel=\"stylesheet\" href=\"https://lean-lang.org/lean4/doc/pygments.css\">\n",
       "        <script src=\"https://lean-lang.org/lean4/doc/alectryon.js\"></script>\n",
       "        <script src=\"https://lean-lang.org/lean4/doc/highlight.js\"></script>\n",
       "        <style>\n",
       "            @media (any-hover: hover) {\n",
       "                .alectryon-io .alectryon-sentence:hover .alectryon-output,\n",
       "                .alectryon-io .alectryon-token:hover .alectryon-type-info-wrapper,\n",
       "                .alectryon-io .alectryon-token:hover .alectryon-type-info-wrapper {\n",
       "                    position: unset;\n",
       "                }\n",
       "            }\n",
       "\n",
       "            .highlight .w, .code .w {\n",
       "                color: #d3d7cf;\n",
       "                text-decoration: none;\n",
       "            }\n",
       "\n",
       "            body[data-jp-theme-light=\"false\"] .alectryon-io .alectryon-goals,\n",
       "            body[data-jp-theme-light=\"false\"] .alectryon-io .alectryon-messages,\n",
       "            body[data-jp-theme-light=\"false\"] .alectryon-io .alectryon-goal,\n",
       "            body[data-jp-theme-light=\"false\"] .alectryon-io .alectryon-message {\n",
       "                background: black;\n",
       "            }\n",
       "        </style>\n",
       "    \n",
       "        <div class=\"alectryon-root alectryon-centered\">\n",
       "            <pre class=\"alectryon-io type-info-hidden highlight\"><!-- Generator: Alectryon --><span class=\"alectryon-sentence\"><input class=\"alectryon-toggle\" id=\"chk1\" style=\"display: none\" type=\"checkbox\"><label class=\"alectryon-input\" for=\"chk1\"><span class=\"k\">#check</span><span class=\"w\"> </span>CliffordAlgebra</label><small class=\"alectryon-output\"><div><div class=\"alectryon-messages\"><blockquote class=\"alectryon-message\"> CliffordAlgebra<span class=\"bp\">.</span>{u_2,<span class=\"w\"> </span>u_1}<span class=\"w\"> </span>{R<span class=\"w\"> </span>:<span class=\"w\"> </span><span class=\"kt\">Type</span><span class=\"w\"> </span>u_1}<span class=\"w\"> </span>[CommRing<span class=\"w\"> </span>R]<span class=\"w\"> </span>{M<span class=\"w\"> </span>:<span class=\"w\"> </span><span class=\"kt\">Type</span><span class=\"w\"> </span>u_2}<span class=\"w\"> </span>[AddCommGroup<span class=\"w\"> </span>M]<span class=\"w\"> </span>[Module<span class=\"w\"> </span>R<span class=\"w\"> </span>M]\n",
       "<span class=\"w\">  </span>(Q<span class=\"w\"> </span>:<span class=\"w\"> </span>QuadraticForm<span class=\"w\"> </span>R<span class=\"w\"> </span>M)<span class=\"w\"> </span>:<span class=\"w\"> </span><span class=\"kt\">Type</span><span class=\"w\"> </span>(max<span class=\"w\"> </span>u_2<span class=\"w\"> </span>u_1)</blockquote></div></div></small></span></pre>\n",
       "<pre class=\"alectryon-io type-info-hidden highlight\"><!-- Generator: Alectryon --><span class=\"alectryon-sentence\"><span class=\"alectryon-input\"><span class=\"c1\">--% env 2</span></span></span></pre>\n",
       "        </div>\n",
       "        <details>\n",
       "            <summary>Raw input</summary>\n",
       "            <code>{\"cmd\": \"#check CliffordAlgebra\", \"env\": 1}</code>\n",
       "        </details>\n",
       "        <details>\n",
       "            <summary>Raw output</summary>\n",
       "            <code>{\"messages\":\r\n",
       " [{\"severity\": \"info\",\r\n",
       "   \"pos\": {\"line\": 1, \"column\": 0},\r\n",
       "   \"endPos\": {\"line\": 1, \"column\": 6},\r\n",
       "   \"data\":\r\n",
       "   \"CliffordAlgebra.{u_2, u_1} {R : Type u_1} [CommRing R] {M : Type u_2} [AddCommGroup M] [Module R M]\\n  (Q : QuadraticForm R M) : Type (max u_2 u_1)\"}],\r\n",
       " \"env\": 2}</code>\n",
       "        </details>\n",
       "    "
      ],
      "text/plain": [
       "#check CliffordAlgebra\n",
       "──────▶  CliffordAlgebra.{u_2, u_1} {R : Type u_1} [CommRing R] {M : Type u_2} [AddCommGroup M] [Module R M]\n",
       "  (Q : QuadraticForm R M) : Type (max u_2 u_1)\n",
       "--% env 2\n",
       "\n",
       "Raw input:\n",
       "{\"cmd\": \"#check CliffordAlgebra\", \"env\": 1}\n",
       "Raw output:\n",
       "{\"messages\":\r\n",
       " [{\"severity\": \"info\",\r\n",
       "   \"pos\": {\"line\": 1, \"column\": 0},\r\n",
       "   \"endPos\": {\"line\": 1, \"column\": 6},\r\n",
       "   \"data\":\r\n",
       "   \"CliffordAlgebra.{u_2, u_1} {R : Type u_1} [CommRing R] {M : Type u_2} [AddCommGroup M] [Module R M]\\n  (Q : QuadraticForm R M) : Type (max u_2 u_1)\"}],\r\n",
       " \"env\": 2}"
      ]
     },
     "metadata": {},
     "output_type": "display_data"
    }
   ],
   "source": [
    "#check CliffordAlgebra"
   ]
  },
  {
   "cell_type": "markdown",
   "id": "ee47fe44-dcc8-4690-bdc5-ec1c1268f74e",
   "metadata": {},
   "source": [
    "Note that you'll lose previous imports everytime you reset the environment."
   ]
  },
  {
   "cell_type": "code",
   "execution_count": 4,
   "id": "942b8c92-9bd5-4922-86e3-fdd80cec0b7d",
   "metadata": {},
   "outputs": [
    {
     "data": {
      "text/html": [
       "\n",
       "        \n",
       "        <link rel=\"stylesheet\" href=\"https://lean-lang.org/lean4/doc/alectryon.css\">\n",
       "        <link rel=\"stylesheet\" href=\"https://lean-lang.org/lean4/doc/pygments.css\">\n",
       "        <script src=\"https://lean-lang.org/lean4/doc/alectryon.js\"></script>\n",
       "        <script src=\"https://lean-lang.org/lean4/doc/highlight.js\"></script>\n",
       "        <style>\n",
       "            @media (any-hover: hover) {\n",
       "                .alectryon-io .alectryon-sentence:hover .alectryon-output,\n",
       "                .alectryon-io .alectryon-token:hover .alectryon-type-info-wrapper,\n",
       "                .alectryon-io .alectryon-token:hover .alectryon-type-info-wrapper {\n",
       "                    position: unset;\n",
       "                }\n",
       "            }\n",
       "\n",
       "            .highlight .w, .code .w {\n",
       "                color: #d3d7cf;\n",
       "                text-decoration: none;\n",
       "            }\n",
       "\n",
       "            body[data-jp-theme-light=\"false\"] .alectryon-io .alectryon-goals,\n",
       "            body[data-jp-theme-light=\"false\"] .alectryon-io .alectryon-messages,\n",
       "            body[data-jp-theme-light=\"false\"] .alectryon-io .alectryon-goal,\n",
       "            body[data-jp-theme-light=\"false\"] .alectryon-io .alectryon-message {\n",
       "                background: black;\n",
       "            }\n",
       "        </style>\n",
       "    \n",
       "        <div class=\"alectryon-root alectryon-centered\">\n",
       "            <pre class=\"alectryon-io type-info-hidden highlight\"><!-- Generator: Alectryon --><span class=\"alectryon-sentence\"><span class=\"alectryon-input\"><span class=\"c1\">--%env</span></span></span></pre>\n",
       "<pre class=\"alectryon-io type-info-hidden highlight\"><!-- Generator: Alectryon --><span class=\"alectryon-sentence\"><span class=\"alectryon-input\"><span class=\"kn\">import</span><span class=\"w\"> </span>Mathlib.Tactic</span></span></pre>\n",
       "<pre class=\"alectryon-io type-info-hidden highlight\"><!-- Generator: Alectryon --><span class=\"alectryon-sentence\"><span class=\"alectryon-input\"><span class=\"c1\">--% env 3</span></span></span></pre>\n",
       "        </div>\n",
       "        <details>\n",
       "            <summary>Raw input</summary>\n",
       "            <code>{\"cmd\": \"--%env\\nimport Mathlib.Tactic\"}</code>\n",
       "        </details>\n",
       "        <details>\n",
       "            <summary>Raw output</summary>\n",
       "            <code>{\"env\": 3}</code>\n",
       "        </details>\n",
       "    "
      ],
      "text/plain": [
       "--%env\n",
       "import Mathlib.Tactic\n",
       "--% env 3\n",
       "\n",
       "Raw input:\n",
       "{\"cmd\": \"--%env\\nimport Mathlib.Tactic\"}\n",
       "Raw output:\n",
       "{\"env\": 3}"
      ]
     },
     "metadata": {},
     "output_type": "display_data"
    }
   ],
   "source": [
    "%env\n",
    "import Mathlib.Tactic"
   ]
  },
  {
   "cell_type": "markdown",
   "id": "5d3d8ac8-c758-4f65-9b75-19a0ba4eaa58",
   "metadata": {},
   "source": [
    "The previous `Mathlib` import is lost, so the following will fail."
   ]
  },
  {
   "cell_type": "code",
   "execution_count": 5,
   "id": "16dd6d6c-ab7f-4a22-abff-d401a88e369a",
   "metadata": {},
   "outputs": [
    {
     "data": {
      "text/html": [
       "\n",
       "        \n",
       "        <link rel=\"stylesheet\" href=\"https://lean-lang.org/lean4/doc/alectryon.css\">\n",
       "        <link rel=\"stylesheet\" href=\"https://lean-lang.org/lean4/doc/pygments.css\">\n",
       "        <script src=\"https://lean-lang.org/lean4/doc/alectryon.js\"></script>\n",
       "        <script src=\"https://lean-lang.org/lean4/doc/highlight.js\"></script>\n",
       "        <style>\n",
       "            @media (any-hover: hover) {\n",
       "                .alectryon-io .alectryon-sentence:hover .alectryon-output,\n",
       "                .alectryon-io .alectryon-token:hover .alectryon-type-info-wrapper,\n",
       "                .alectryon-io .alectryon-token:hover .alectryon-type-info-wrapper {\n",
       "                    position: unset;\n",
       "                }\n",
       "            }\n",
       "\n",
       "            .highlight .w, .code .w {\n",
       "                color: #d3d7cf;\n",
       "                text-decoration: none;\n",
       "            }\n",
       "\n",
       "            body[data-jp-theme-light=\"false\"] .alectryon-io .alectryon-goals,\n",
       "            body[data-jp-theme-light=\"false\"] .alectryon-io .alectryon-messages,\n",
       "            body[data-jp-theme-light=\"false\"] .alectryon-io .alectryon-goal,\n",
       "            body[data-jp-theme-light=\"false\"] .alectryon-io .alectryon-message {\n",
       "                background: black;\n",
       "            }\n",
       "        </style>\n",
       "    \n",
       "        <div class=\"alectryon-root alectryon-centered\">\n",
       "            <pre class=\"alectryon-io type-info-hidden highlight\"><!-- Generator: Alectryon --><span class=\"alectryon-sentence\"><input class=\"alectryon-toggle\" id=\"chk2\" style=\"display: none\" type=\"checkbox\"><label class=\"alectryon-input\" for=\"chk2\"><span class=\"k\">#check</span><span class=\"w\"> </span>CliffordAlgebra</label><small class=\"alectryon-output\"><div><div class=\"alectryon-messages\"><blockquote class=\"alectryon-message\"><span class=\"bp\">❌</span><span class=\"w\"> </span>unknown<span class=\"w\"> </span>identifier<span class=\"w\"> </span><span class=\"bp\">&#39;</span>CliffordAlgebra&#39;</blockquote></div></div></small></span></pre>\n",
       "<pre class=\"alectryon-io type-info-hidden highlight\"><!-- Generator: Alectryon --><span class=\"alectryon-sentence\"><span class=\"alectryon-input\"><span class=\"c1\">--% env 4</span></span></span></pre>\n",
       "        </div>\n",
       "        <details>\n",
       "            <summary>Raw input</summary>\n",
       "            <code>{\"cmd\": \"#check CliffordAlgebra\", \"env\": 3}</code>\n",
       "        </details>\n",
       "        <details>\n",
       "            <summary>Raw output</summary>\n",
       "            <code>{\"messages\":\r\n",
       " [{\"severity\": \"error\",\r\n",
       "   \"pos\": {\"line\": 1, \"column\": 7},\r\n",
       "   \"endPos\": {\"line\": 1, \"column\": 22},\r\n",
       "   \"data\": \"unknown identifier 'CliffordAlgebra'\"}],\r\n",
       " \"env\": 4}</code>\n",
       "        </details>\n",
       "    "
      ],
      "text/plain": [
       "#check CliffordAlgebra\n",
       "       ───────────────▶ ❌ unknown identifier 'CliffordAlgebra'\n",
       "--% env 4\n",
       "\n",
       "Raw input:\n",
       "{\"cmd\": \"#check CliffordAlgebra\", \"env\": 3}\n",
       "Raw output:\n",
       "{\"messages\":\r\n",
       " [{\"severity\": \"error\",\r\n",
       "   \"pos\": {\"line\": 1, \"column\": 7},\r\n",
       "   \"endPos\": {\"line\": 1, \"column\": 22},\r\n",
       "   \"data\": \"unknown identifier 'CliffordAlgebra'\"}],\r\n",
       " \"env\": 4}"
      ]
     },
     "metadata": {},
     "output_type": "display_data"
    }
   ],
   "source": [
    "#check CliffordAlgebra"
   ]
  },
  {
   "cell_type": "markdown",
   "id": "9f3930a0-bd43-459a-b98a-3610b6300a3e",
   "metadata": {},
   "source": [
    "But the following will succeed because `import Mathlib.Tactic` succeeded."
   ]
  },
  {
   "cell_type": "code",
   "execution_count": 6,
   "id": "4db21e45-512f-4734-affb-0d4d9efd2418",
   "metadata": {},
   "outputs": [
    {
     "data": {
      "text/html": [
       "\n",
       "        \n",
       "        <link rel=\"stylesheet\" href=\"https://lean-lang.org/lean4/doc/alectryon.css\">\n",
       "        <link rel=\"stylesheet\" href=\"https://lean-lang.org/lean4/doc/pygments.css\">\n",
       "        <script src=\"https://lean-lang.org/lean4/doc/alectryon.js\"></script>\n",
       "        <script src=\"https://lean-lang.org/lean4/doc/highlight.js\"></script>\n",
       "        <style>\n",
       "            @media (any-hover: hover) {\n",
       "                .alectryon-io .alectryon-sentence:hover .alectryon-output,\n",
       "                .alectryon-io .alectryon-token:hover .alectryon-type-info-wrapper,\n",
       "                .alectryon-io .alectryon-token:hover .alectryon-type-info-wrapper {\n",
       "                    position: unset;\n",
       "                }\n",
       "            }\n",
       "\n",
       "            .highlight .w, .code .w {\n",
       "                color: #d3d7cf;\n",
       "                text-decoration: none;\n",
       "            }\n",
       "\n",
       "            body[data-jp-theme-light=\"false\"] .alectryon-io .alectryon-goals,\n",
       "            body[data-jp-theme-light=\"false\"] .alectryon-io .alectryon-messages,\n",
       "            body[data-jp-theme-light=\"false\"] .alectryon-io .alectryon-goal,\n",
       "            body[data-jp-theme-light=\"false\"] .alectryon-io .alectryon-message {\n",
       "                background: black;\n",
       "            }\n",
       "        </style>\n",
       "    \n",
       "        <div class=\"alectryon-root alectryon-centered\">\n",
       "            <pre class=\"alectryon-io type-info-hidden highlight\"><!-- Generator: Alectryon --><span class=\"alectryon-sentence\"><input class=\"alectryon-toggle\" id=\"chk3\" style=\"display: none\" type=\"checkbox\"><label class=\"alectryon-input\" for=\"chk3\"></label><small class=\"alectryon-output\"><div><div class=\"alectryon-messages\"><blockquote class=\"alectryon-message\"><span class=\"bp\">❌</span><span class=\"w\"> </span>unknown<span class=\"w\"> </span>identifier<span class=\"w\"> </span><span class=\"bp\">&#39;</span>CliffordAlgebra&#39;</blockquote></div></div></small></span></pre>\n",
       "<pre class=\"alectryon-io type-info-hidden highlight\"><!-- Generator: Alectryon --><span class=\"alectryon-sentence\"><input class=\"alectryon-toggle\" id=\"chk4\" style=\"display: none\" type=\"checkbox\"><label class=\"alectryon-input\" for=\"chk4\"><span class=\"k\">#check</span><span class=\"w\"> </span>Algebra</label><small class=\"alectryon-output\"><div><div class=\"alectryon-messages\"><blockquote class=\"alectryon-message\"> Algebra<span class=\"bp\">.</span>{u,<span class=\"w\"> </span>v}<span class=\"w\"> </span>(R<span class=\"w\"> </span>:<span class=\"w\"> </span><span class=\"kt\">Type</span><span class=\"w\"> </span>u)<span class=\"w\"> </span>(A<span class=\"w\"> </span>:<span class=\"w\"> </span><span class=\"kt\">Type</span><span class=\"w\"> </span>v)<span class=\"w\"> </span>[CommSemiring<span class=\"w\"> </span>R]<span class=\"w\"> </span>[Semiring<span class=\"w\"> </span>A]<span class=\"w\"> </span>:<span class=\"w\"> </span><span class=\"kt\">Type</span><span class=\"w\"> </span>(max<span class=\"w\"> </span>u<span class=\"w\"> </span>v)</blockquote></div></div></small></span></pre>\n",
       "<pre class=\"alectryon-io type-info-hidden highlight\"><!-- Generator: Alectryon --><span class=\"alectryon-sentence\"><span class=\"alectryon-input\"><span class=\"c1\">--% env 5</span></span></span></pre>\n",
       "        </div>\n",
       "        <details>\n",
       "            <summary>Raw input</summary>\n",
       "            <code>{\"cmd\": \"\\n#check Algebra\", \"env\": 4}</code>\n",
       "        </details>\n",
       "        <details>\n",
       "            <summary>Raw output</summary>\n",
       "            <code>{\"messages\":\r\n",
       " [{\"severity\": \"error\",\r\n",
       "   \"pos\": {\"line\": 1, \"column\": 7},\r\n",
       "   \"endPos\": {\"line\": 1, \"column\": 22},\r\n",
       "   \"data\": \"unknown identifier 'CliffordAlgebra'\"},\r\n",
       "  {\"severity\": \"info\",\r\n",
       "   \"pos\": {\"line\": 2, \"column\": 0},\r\n",
       "   \"endPos\": {\"line\": 2, \"column\": 6},\r\n",
       "   \"data\":\r\n",
       "   \"Algebra.{u, v} (R : Type u) (A : Type v) [CommSemiring R] [Semiring A] : Type (max u v)\"}],\r\n",
       " \"env\": 5}</code>\n",
       "        </details>\n",
       "    "
      ],
      "text/plain": [
       "\n",
       "       ───────────────▶ ❌ unknown identifier 'CliffordAlgebra'\n",
       "#check Algebra\n",
       "──────▶  Algebra.{u, v} (R : Type u) (A : Type v) [CommSemiring R] [Semiring A] : Type (max u v)\n",
       "--% env 5\n",
       "\n",
       "Raw input:\n",
       "{\"cmd\": \"\\n#check Algebra\", \"env\": 4}\n",
       "Raw output:\n",
       "{\"messages\":\r\n",
       " [{\"severity\": \"error\",\r\n",
       "   \"pos\": {\"line\": 1, \"column\": 7},\r\n",
       "   \"endPos\": {\"line\": 1, \"column\": 22},\r\n",
       "   \"data\": \"unknown identifier 'CliffordAlgebra'\"},\r\n",
       "  {\"severity\": \"info\",\r\n",
       "   \"pos\": {\"line\": 2, \"column\": 0},\r\n",
       "   \"endPos\": {\"line\": 2, \"column\": 6},\r\n",
       "   \"data\":\r\n",
       "   \"Algebra.{u, v} (R : Type u) (A : Type v) [CommSemiring R] [Semiring A] : Type (max u v)\"}],\r\n",
       " \"env\": 5}"
      ]
     },
     "metadata": {},
     "output_type": "display_data"
    }
   ],
   "source": [
    "\n",
    "#check Algebra"
   ]
  },
  {
   "cell_type": "code",
   "execution_count": null,
   "id": "10299896-be20-4d52-ba03-a0011ca0d470",
   "metadata": {},
   "outputs": [],
   "source": []
  }
 ],
 "metadata": {
  "kernelspec": {
   "display_name": "Lean 4",
   "language": "lean4",
   "name": "lean4"
  },
  "language_info": {
   "codemirror_mode": "python",
   "file_extension": ".lean",
   "mimetype": "text/x-lean4",
   "name": "lean4"
  }
 },
 "nbformat": 4,
 "nbformat_minor": 5
}
