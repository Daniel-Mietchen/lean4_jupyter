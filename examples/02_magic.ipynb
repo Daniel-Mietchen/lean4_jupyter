{
 "cells": [
  {
   "cell_type": "markdown",
   "id": "7673ac0f-5ceb-4baa-9c74-beebdc623c8e",
   "metadata": {},
   "source": [
    "Case 1: If the user enters [Built-in magic commands](https://ipython.readthedocs.io/en/stable/interactive/magics.html), this should not cause an error:\n"
   ]
  },
  {
   "cell_type": "code",
   "execution_count": 1,
   "id": "8c28ca96-afc3-4fd2-9265-5b9f4dee8f6f",
   "metadata": {},
   "outputs": [
    {
     "data": {
      "text/html": [
       "\n",
       "        \n",
       "        <link rel=\"stylesheet\" href=\"https://lean-lang.org/lean4/doc/alectryon.css\">\n",
       "        <link rel=\"stylesheet\" href=\"https://lean-lang.org/lean4/doc/pygments.css\">\n",
       "        <script src=\"https://lean-lang.org/lean4/doc/alectryon.js\"></script>\n",
       "        <script src=\"https://lean-lang.org/lean4/doc/highlight.js\"></script>\n",
       "        <style>\n",
       "            @media (any-hover: hover) {\n",
       "                .alectryon-io .alectryon-sentence:hover .alectryon-output,\n",
       "                .alectryon-io .alectryon-token:hover .alectryon-type-info-wrapper,\n",
       "                .alectryon-io .alectryon-token:hover .alectryon-type-info-wrapper {\n",
       "                    position: unset;\n",
       "                }\n",
       "            }\n",
       "\n",
       "            .highlight .w, .code .w {\n",
       "                color: #d3d7cf;\n",
       "                text-decoration: none;\n",
       "            }\n",
       "\n",
       "            body[data-jp-theme-light=\"false\"] .alectryon-io .alectryon-goals,\n",
       "            body[data-jp-theme-light=\"false\"] .alectryon-io .alectryon-messages,\n",
       "            body[data-jp-theme-light=\"false\"] .alectryon-io .alectryon-goal,\n",
       "            body[data-jp-theme-light=\"false\"] .alectryon-io .alectryon-message {\n",
       "                background: black;\n",
       "            }\n",
       "        </style>\n",
       "    \n",
       "        <div class=\"alectryon-root alectryon-centered\">\n",
       "            <pre class=\"alectryon-io type-info-hidden highlight\"><!-- Generator: Alectryon --><span class=\"alectryon-sentence\"><span class=\"alectryon-input\"><span class=\"c1\">--%history</span></span></span></pre>\n",
       "<pre class=\"alectryon-io type-info-hidden highlight\"><!-- Generator: Alectryon --><span class=\"alectryon-sentence\"><span class=\"alectryon-input\"><span class=\"kd\">def</span><span class=\"w\"> </span>f<span class=\"w\"> </span>:=<span class=\"w\"> </span><span class=\"mi\">2</span></span></span></pre>\n",
       "        </div>\n",
       "        <details>\n",
       "            <summary>Details</summary>\n",
       "            <p>State: <code>--% e-0</code></p>\n",
       "            <details>\n",
       "                <summary>Raw input</summary>\n",
       "                <code>{\"cmd\": \"--%history\\ndef f := 2\", \"env\": null}</code>\n",
       "            </details>\n",
       "            <details>\n",
       "                <summary>Raw output</summary>\n",
       "                <code>{\"env\": 0}</code>\n",
       "            </details>\n",
       "        </details>\n",
       "    "
      ],
      "text/plain": [
       "{\"env\": 0}"
      ]
     },
     "metadata": {},
     "output_type": "display_data"
    }
   ],
   "source": [
    "%history\n",
    "def f := 2"
   ]
  },
  {
   "cell_type": "code",
   "execution_count": 2,
   "id": "2f4fb08a-3a35-4fee-bd1c-c78303986d5b",
   "metadata": {},
   "outputs": [
    {
     "data": {
      "text/html": [
       "\n",
       "        \n",
       "        <link rel=\"stylesheet\" href=\"https://lean-lang.org/lean4/doc/alectryon.css\">\n",
       "        <link rel=\"stylesheet\" href=\"https://lean-lang.org/lean4/doc/pygments.css\">\n",
       "        <script src=\"https://lean-lang.org/lean4/doc/alectryon.js\"></script>\n",
       "        <script src=\"https://lean-lang.org/lean4/doc/highlight.js\"></script>\n",
       "        <style>\n",
       "            @media (any-hover: hover) {\n",
       "                .alectryon-io .alectryon-sentence:hover .alectryon-output,\n",
       "                .alectryon-io .alectryon-token:hover .alectryon-type-info-wrapper,\n",
       "                .alectryon-io .alectryon-token:hover .alectryon-type-info-wrapper {\n",
       "                    position: unset;\n",
       "                }\n",
       "            }\n",
       "\n",
       "            .highlight .w, .code .w {\n",
       "                color: #d3d7cf;\n",
       "                text-decoration: none;\n",
       "            }\n",
       "\n",
       "            body[data-jp-theme-light=\"false\"] .alectryon-io .alectryon-goals,\n",
       "            body[data-jp-theme-light=\"false\"] .alectryon-io .alectryon-messages,\n",
       "            body[data-jp-theme-light=\"false\"] .alectryon-io .alectryon-goal,\n",
       "            body[data-jp-theme-light=\"false\"] .alectryon-io .alectryon-message {\n",
       "                background: black;\n",
       "            }\n",
       "        </style>\n",
       "    \n",
       "        <div class=\"alectryon-root alectryon-centered\">\n",
       "            <pre class=\"alectryon-io type-info-hidden highlight\"><!-- Generator: Alectryon --><span class=\"alectryon-sentence\"><input class=\"alectryon-toggle\" id=\"chk0\" style=\"display: none\" type=\"checkbox\"><label class=\"alectryon-input\" for=\"chk0\"><span class=\"k\">#check</span><span class=\"w\"> </span>f</label><small class=\"alectryon-output\"><div><div class=\"alectryon-messages\"><blockquote class=\"alectryon-message\"> f<span class=\"w\"> </span>:<span class=\"w\"> </span>Nat</blockquote></div></div></small></span></pre>\n",
       "        </div>\n",
       "        <details>\n",
       "            <summary>Details</summary>\n",
       "            <p>State: <code>--% e-1</code></p>\n",
       "            <details>\n",
       "                <summary>Raw input</summary>\n",
       "                <code>{\"cmd\": \"#check f\", \"env\": 0}</code>\n",
       "            </details>\n",
       "            <details>\n",
       "                <summary>Raw output</summary>\n",
       "                <code>{\"messages\":\r\n",
       " [{\"severity\": \"info\",\r\n",
       "   \"pos\": {\"line\": 1, \"column\": 0},\r\n",
       "   \"endPos\": {\"line\": 1, \"column\": 6},\r\n",
       "   \"data\": \"f : Nat\"}],\r\n",
       " \"env\": 1}</code>\n",
       "            </details>\n",
       "        </details>\n",
       "    "
      ],
      "text/plain": [
       "{\"messages\":\r\n",
       " [{\"severity\": \"info\",\r\n",
       "   \"pos\": {\"line\": 1, \"column\": 0},\r\n",
       "   \"endPos\": {\"line\": 1, \"column\": 6},\r\n",
       "   \"data\": \"f : Nat\"}],\r\n",
       " \"env\": 1}"
      ]
     },
     "metadata": {},
     "output_type": "display_data"
    }
   ],
   "source": [
    "#check f"
   ]
  },
  {
   "cell_type": "code",
   "execution_count": 3,
   "id": "c2a7fe4a-975b-4585-a7c9-165cb42589ef",
   "metadata": {
    "scrolled": true
   },
   "outputs": [
    {
     "data": {
      "text/html": [
       "\n",
       "        \n",
       "        <link rel=\"stylesheet\" href=\"https://lean-lang.org/lean4/doc/alectryon.css\">\n",
       "        <link rel=\"stylesheet\" href=\"https://lean-lang.org/lean4/doc/pygments.css\">\n",
       "        <script src=\"https://lean-lang.org/lean4/doc/alectryon.js\"></script>\n",
       "        <script src=\"https://lean-lang.org/lean4/doc/highlight.js\"></script>\n",
       "        <style>\n",
       "            @media (any-hover: hover) {\n",
       "                .alectryon-io .alectryon-sentence:hover .alectryon-output,\n",
       "                .alectryon-io .alectryon-token:hover .alectryon-type-info-wrapper,\n",
       "                .alectryon-io .alectryon-token:hover .alectryon-type-info-wrapper {\n",
       "                    position: unset;\n",
       "                }\n",
       "            }\n",
       "\n",
       "            .highlight .w, .code .w {\n",
       "                color: #d3d7cf;\n",
       "                text-decoration: none;\n",
       "            }\n",
       "\n",
       "            body[data-jp-theme-light=\"false\"] .alectryon-io .alectryon-goals,\n",
       "            body[data-jp-theme-light=\"false\"] .alectryon-io .alectryon-messages,\n",
       "            body[data-jp-theme-light=\"false\"] .alectryon-io .alectryon-goal,\n",
       "            body[data-jp-theme-light=\"false\"] .alectryon-io .alectryon-message {\n",
       "                background: black;\n",
       "            }\n",
       "        </style>\n",
       "    \n",
       "        <div class=\"alectryon-root alectryon-centered\">\n",
       "            <pre class=\"alectryon-io type-info-hidden highlight\"><!-- Generator: Alectryon --><span class=\"alectryon-sentence\"><input class=\"alectryon-toggle\" id=\"chk1\" style=\"display: none\" type=\"checkbox\"><label class=\"alectryon-input\" for=\"chk1\"><span class=\"kd\">def</span><span class=\"w\"> </span>g<span class=\"w\"> </span>:=<span class=\"w\"> </span><span class=\"mi\">3</span></label><small class=\"alectryon-output\"><div><div class=\"alectryon-messages\"><blockquote class=\"alectryon-message\"> f<span class=\"w\"> </span>:<span class=\"w\"> </span>Nat</blockquote></div></div></small></span></pre>\n",
       "        </div>\n",
       "        <details>\n",
       "            <summary>Details</summary>\n",
       "            <p>State: <code>--% e-2</code></p>\n",
       "            <details>\n",
       "                <summary>Raw input</summary>\n",
       "                <code>{\"cmd\": \"def g := 3\", \"env\": 1}</code>\n",
       "            </details>\n",
       "            <details>\n",
       "                <summary>Raw output</summary>\n",
       "                <code>{\"messages\":\r\n",
       " [{\"severity\": \"info\",\r\n",
       "   \"pos\": {\"line\": 1, \"column\": 0},\r\n",
       "   \"endPos\": {\"line\": 1, \"column\": 6},\r\n",
       "   \"data\": \"f : Nat\"}],\r\n",
       " \"env\": 2}</code>\n",
       "            </details>\n",
       "        </details>\n",
       "    "
      ],
      "text/plain": [
       "{\"messages\":\r\n",
       " [{\"severity\": \"info\",\r\n",
       "   \"pos\": {\"line\": 1, \"column\": 0},\r\n",
       "   \"endPos\": {\"line\": 1, \"column\": 6},\r\n",
       "   \"data\": \"f : Nat\"}],\r\n",
       " \"env\": 2}"
      ]
     },
     "metadata": {},
     "output_type": "display_data"
    }
   ],
   "source": [
    "def g := 3"
   ]
  },
  {
   "cell_type": "code",
   "execution_count": 4,
   "id": "d4f3c6fb-f5ce-47ef-8454-aecc38e4f43c",
   "metadata": {},
   "outputs": [
    {
     "data": {
      "text/html": [
       "\n",
       "        \n",
       "        <link rel=\"stylesheet\" href=\"https://lean-lang.org/lean4/doc/alectryon.css\">\n",
       "        <link rel=\"stylesheet\" href=\"https://lean-lang.org/lean4/doc/pygments.css\">\n",
       "        <script src=\"https://lean-lang.org/lean4/doc/alectryon.js\"></script>\n",
       "        <script src=\"https://lean-lang.org/lean4/doc/highlight.js\"></script>\n",
       "        <style>\n",
       "            @media (any-hover: hover) {\n",
       "                .alectryon-io .alectryon-sentence:hover .alectryon-output,\n",
       "                .alectryon-io .alectryon-token:hover .alectryon-type-info-wrapper,\n",
       "                .alectryon-io .alectryon-token:hover .alectryon-type-info-wrapper {\n",
       "                    position: unset;\n",
       "                }\n",
       "            }\n",
       "\n",
       "            .highlight .w, .code .w {\n",
       "                color: #d3d7cf;\n",
       "                text-decoration: none;\n",
       "            }\n",
       "\n",
       "            body[data-jp-theme-light=\"false\"] .alectryon-io .alectryon-goals,\n",
       "            body[data-jp-theme-light=\"false\"] .alectryon-io .alectryon-messages,\n",
       "            body[data-jp-theme-light=\"false\"] .alectryon-io .alectryon-goal,\n",
       "            body[data-jp-theme-light=\"false\"] .alectryon-io .alectryon-message {\n",
       "                background: black;\n",
       "            }\n",
       "        </style>\n",
       "    \n",
       "        <div class=\"alectryon-root alectryon-centered\">\n",
       "            <pre class=\"alectryon-io type-info-hidden highlight\"><!-- Generator: Alectryon --><span class=\"alectryon-sentence\"><input class=\"alectryon-toggle\" id=\"chk2\" style=\"display: none\" type=\"checkbox\"><label class=\"alectryon-input\" for=\"chk2\"><span class=\"k\">#check</span><span class=\"w\"> </span>g</label><small class=\"alectryon-output\"><div><div class=\"alectryon-messages\"><blockquote class=\"alectryon-message\"> f<span class=\"w\"> </span>:<span class=\"w\"> </span>Nat</blockquote><blockquote class=\"alectryon-message\"> g<span class=\"w\"> </span>:<span class=\"w\"> </span>Nat</blockquote></div></div></small></span></pre>\n",
       "        </div>\n",
       "        <details>\n",
       "            <summary>Details</summary>\n",
       "            <p>State: <code>--% e-3</code></p>\n",
       "            <details>\n",
       "                <summary>Raw input</summary>\n",
       "                <code>{\"cmd\": \"#check g\", \"env\": 2}</code>\n",
       "            </details>\n",
       "            <details>\n",
       "                <summary>Raw output</summary>\n",
       "                <code>{\"messages\":\r\n",
       " [{\"severity\": \"info\",\r\n",
       "   \"pos\": {\"line\": 1, \"column\": 0},\r\n",
       "   \"endPos\": {\"line\": 1, \"column\": 6},\r\n",
       "   \"data\": \"f : Nat\"},\r\n",
       "  {\"severity\": \"info\",\r\n",
       "   \"pos\": {\"line\": 1, \"column\": 0},\r\n",
       "   \"endPos\": {\"line\": 1, \"column\": 6},\r\n",
       "   \"data\": \"g : Nat\"}],\r\n",
       " \"env\": 3}</code>\n",
       "            </details>\n",
       "        </details>\n",
       "    "
      ],
      "text/plain": [
       "{\"messages\":\r\n",
       " [{\"severity\": \"info\",\r\n",
       "   \"pos\": {\"line\": 1, \"column\": 0},\r\n",
       "   \"endPos\": {\"line\": 1, \"column\": 6},\r\n",
       "   \"data\": \"f : Nat\"},\r\n",
       "  {\"severity\": \"info\",\r\n",
       "   \"pos\": {\"line\": 1, \"column\": 0},\r\n",
       "   \"endPos\": {\"line\": 1, \"column\": 6},\r\n",
       "   \"data\": \"g : Nat\"}],\r\n",
       " \"env\": 3}"
      ]
     },
     "metadata": {},
     "output_type": "display_data"
    }
   ],
   "source": [
    "#check g"
   ]
  },
  {
   "cell_type": "markdown",
   "id": "4e174d63-0155-4499-a377-fe211a2eecc6",
   "metadata": {},
   "source": [
    "Case 2: If the user enters the env following the spec, it should use that env instead.\n",
    "\n",
    "For example, the following will use env `0` when `g` hasn't been defined yet, buf `f` is, so `#check f` should succeed and `#check g` should fail."
   ]
  },
  {
   "cell_type": "code",
   "execution_count": 5,
   "id": "8d523bc1-78e1-4931-841a-dcc349fe1132",
   "metadata": {},
   "outputs": [
    {
     "data": {
      "text/html": [
       "\n",
       "        \n",
       "        <link rel=\"stylesheet\" href=\"https://lean-lang.org/lean4/doc/alectryon.css\">\n",
       "        <link rel=\"stylesheet\" href=\"https://lean-lang.org/lean4/doc/pygments.css\">\n",
       "        <script src=\"https://lean-lang.org/lean4/doc/alectryon.js\"></script>\n",
       "        <script src=\"https://lean-lang.org/lean4/doc/highlight.js\"></script>\n",
       "        <style>\n",
       "            @media (any-hover: hover) {\n",
       "                .alectryon-io .alectryon-sentence:hover .alectryon-output,\n",
       "                .alectryon-io .alectryon-token:hover .alectryon-type-info-wrapper,\n",
       "                .alectryon-io .alectryon-token:hover .alectryon-type-info-wrapper {\n",
       "                    position: unset;\n",
       "                }\n",
       "            }\n",
       "\n",
       "            .highlight .w, .code .w {\n",
       "                color: #d3d7cf;\n",
       "                text-decoration: none;\n",
       "            }\n",
       "\n",
       "            body[data-jp-theme-light=\"false\"] .alectryon-io .alectryon-goals,\n",
       "            body[data-jp-theme-light=\"false\"] .alectryon-io .alectryon-messages,\n",
       "            body[data-jp-theme-light=\"false\"] .alectryon-io .alectryon-goal,\n",
       "            body[data-jp-theme-light=\"false\"] .alectryon-io .alectryon-message {\n",
       "                background: black;\n",
       "            }\n",
       "        </style>\n",
       "    \n",
       "        <div class=\"alectryon-root alectryon-centered\">\n",
       "            <pre class=\"alectryon-io type-info-hidden highlight\"><!-- Generator: Alectryon --><span class=\"alectryon-sentence\"><span class=\"alectryon-input\"><span class=\"c1\">--% e-0</span></span></span></pre>\n",
       "<pre class=\"alectryon-io type-info-hidden highlight\"><!-- Generator: Alectryon --><span class=\"alectryon-sentence\"><input class=\"alectryon-toggle\" id=\"chk3\" style=\"display: none\" type=\"checkbox\"><label class=\"alectryon-input\" for=\"chk3\"><span class=\"k\">#check</span><span class=\"w\"> </span>f</label><small class=\"alectryon-output\"><div><div class=\"alectryon-messages\"><blockquote class=\"alectryon-message\"> f<span class=\"w\"> </span>:<span class=\"w\"> </span>Nat</blockquote></div></div></small></span></pre>\n",
       "<pre class=\"alectryon-io type-info-hidden highlight\"><!-- Generator: Alectryon --><span class=\"alectryon-sentence\"><input class=\"alectryon-toggle\" id=\"chk4\" style=\"display: none\" type=\"checkbox\"><label class=\"alectryon-input\" for=\"chk4\"><span class=\"k\">#check</span><span class=\"w\"> </span>g</label><small class=\"alectryon-output\"><div><div class=\"alectryon-messages\"><blockquote class=\"alectryon-message\"><span class=\"bp\">❌</span><span class=\"w\"> </span>unknown<span class=\"w\"> </span>identifier<span class=\"w\"> </span><span class=\"sc\">&#39;g&#39;</span></blockquote></div></div></small></span></pre>\n",
       "        </div>\n",
       "        <details>\n",
       "            <summary>Details</summary>\n",
       "            <p>State: <code>--% e-4</code></p>\n",
       "            <details>\n",
       "                <summary>Raw input</summary>\n",
       "                <code>{\"cmd\": \"--% e-0\\n#check f\\n#check g\", \"env\": 0}</code>\n",
       "            </details>\n",
       "            <details>\n",
       "                <summary>Raw output</summary>\n",
       "                <code>{\"messages\":\r\n",
       " [{\"severity\": \"info\",\r\n",
       "   \"pos\": {\"line\": 2, \"column\": 0},\r\n",
       "   \"endPos\": {\"line\": 2, \"column\": 6},\r\n",
       "   \"data\": \"f : Nat\"},\r\n",
       "  {\"severity\": \"error\",\r\n",
       "   \"pos\": {\"line\": 3, \"column\": 7},\r\n",
       "   \"endPos\": {\"line\": 3, \"column\": 8},\r\n",
       "   \"data\": \"unknown identifier 'g'\"}],\r\n",
       " \"env\": 4}</code>\n",
       "            </details>\n",
       "        </details>\n",
       "    "
      ],
      "text/plain": [
       "{\"messages\":\r\n",
       " [{\"severity\": \"info\",\r\n",
       "   \"pos\": {\"line\": 2, \"column\": 0},\r\n",
       "   \"endPos\": {\"line\": 2, \"column\": 6},\r\n",
       "   \"data\": \"f : Nat\"},\r\n",
       "  {\"severity\": \"error\",\r\n",
       "   \"pos\": {\"line\": 3, \"column\": 7},\r\n",
       "   \"endPos\": {\"line\": 3, \"column\": 8},\r\n",
       "   \"data\": \"unknown identifier 'g'\"}],\r\n",
       " \"env\": 4}"
      ]
     },
     "metadata": {},
     "output_type": "display_data"
    }
   ],
   "source": [
    "--% e-0\n",
    "#check f\n",
    "#check g"
   ]
  },
  {
   "cell_type": "code",
   "execution_count": null,
   "id": "142882dc-a37f-423b-b8bf-dfbfe2748bf5",
   "metadata": {},
   "outputs": [],
   "source": []
  }
 ],
 "metadata": {
  "kernelspec": {
   "display_name": "Lean 4",
   "language": "lean4",
   "name": "lean4"
  },
  "language_info": {
   "codemirror_mode": "python",
   "file_extension": ".lean",
   "mimetype": "text/x-lean4",
   "name": "lean4"
  }
 },
 "nbformat": 4,
 "nbformat_minor": 5
}
