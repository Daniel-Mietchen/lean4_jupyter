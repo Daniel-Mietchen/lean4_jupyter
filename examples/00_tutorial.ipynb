{
 "cells": [
  {
   "cell_type": "markdown",
   "id": "48a160b4-1234-4e92-a460-e4b77971c58a",
   "metadata": {
    "papermill": {
     "duration": 0.003735,
     "end_time": "2024-06-03T09:48:06.202982",
     "exception": false,
     "start_time": "2024-06-03T09:48:06.199247",
     "status": "completed"
    },
    "tags": []
   },
   "source": [
    "# Tutorial for Lean 4 Jupyter Kernel"
   ]
  },
  {
   "cell_type": "markdown",
   "id": "f64b1423-a35b-4078-a3aa-c0b37b8c3034",
   "metadata": {
    "papermill": {
     "duration": 0.002545,
     "end_time": "2024-06-03T09:48:06.208412",
     "exception": false,
     "start_time": "2024-06-03T09:48:06.205867",
     "status": "completed"
    },
    "tags": []
   },
   "source": [
    "## Commands\n",
    "\n",
    "### Running commands in sequence"
   ]
  },
  {
   "cell_type": "markdown",
   "id": "dc5dfd27-7a3b-4039-8399-3ec7f2550866",
   "metadata": {
    "papermill": {
     "duration": 0.00256,
     "end_time": "2024-06-03T09:48:06.213482",
     "exception": false,
     "start_time": "2024-06-03T09:48:06.210922",
     "status": "completed"
    },
    "tags": []
   },
   "source": [
    "1. You can run commands like defining a function:"
   ]
  },
  {
   "cell_type": "code",
   "execution_count": 1,
   "id": "19f1230f-1dfa-4b30-adad-da2924708bd7",
   "metadata": {
    "execution": {
     "iopub.execute_input": "2024-06-03T09:48:06.219835Z",
     "iopub.status.busy": "2024-06-03T09:48:06.219666Z",
     "iopub.status.idle": "2024-06-03T09:48:06.401547Z",
     "shell.execute_reply": "2024-06-03T09:48:06.400756Z"
    },
    "papermill": {
     "duration": 0.197844,
     "end_time": "2024-06-03T09:48:06.413981",
     "exception": false,
     "start_time": "2024-06-03T09:48:06.216137",
     "status": "completed"
    },
    "tags": []
   },
   "outputs": [
    {
     "data": {
      "text/html": [
       "\n",
       "        \n",
       "        <link rel=\"stylesheet\" href=\"https://lean-lang.org/lean4/doc/alectryon.css\">\n",
       "        <link rel=\"stylesheet\" href=\"https://lean-lang.org/lean4/doc/pygments.css\">\n",
       "        <script src=\"https://lean-lang.org/lean4/doc/alectryon.js\"></script>\n",
       "        <script src=\"https://lean-lang.org/lean4/doc/highlight.js\"></script>\n",
       "        <style>\n",
       "            @media (any-hover: hover) {\n",
       "                .alectryon-io .alectryon-sentence:hover .alectryon-output,\n",
       "                .alectryon-io .alectryon-token:hover .alectryon-type-info-wrapper,\n",
       "                .alectryon-io .alectryon-token:hover .alectryon-type-info-wrapper {\n",
       "                    position: unset;\n",
       "                }\n",
       "            }\n",
       "\n",
       "            .highlight .w, .code .w {\n",
       "                color: #d3d7cf;\n",
       "                text-decoration: none;\n",
       "            }\n",
       "\n",
       "            body[data-jp-theme-light=\"false\"] .alectryon-io .alectryon-goals,\n",
       "            body[data-jp-theme-light=\"false\"] .alectryon-io .alectryon-messages,\n",
       "            body[data-jp-theme-light=\"false\"] .alectryon-io .alectryon-goal,\n",
       "            body[data-jp-theme-light=\"false\"] .alectryon-io .alectryon-message {\n",
       "                background: black;\n",
       "            }\n",
       "        </style>\n",
       "    \n",
       "        <div class=\"alectryon-root alectryon-centered\">\n",
       "            <pre class=\"alectryon-io highlight\"><!-- Generator: Alectryon --><span class=\"alectryon-sentence\"><span class=\"alectryon-input\"><span class=\"kn\">def</span><span class=\"w\"> </span>f<span class=\"w\"> </span>:=<span class=\"w\"> </span><span class=\"mi\">2</span></span></span></pre>\n",
       "<pre class=\"alectryon-io highlight\"><!-- Generator: Alectryon --><span class=\"alectryon-sentence\"><span class=\"alectryon-input\"><span class=\"c1\">--% env 0</span></span></span></pre>\n",
       "        </div>\n",
       "        <details>\n",
       "            <summary>Raw input</summary>\n",
       "            <code>{\"cmd\": \"def f := 2\"}</code>\n",
       "        </details>\n",
       "        <details>\n",
       "            <summary>Raw output</summary>\n",
       "            <code>{\"env\": 0}</code>\n",
       "        </details>\n",
       "    "
      ],
      "text/plain": [
       "def f := 2\n",
       "--% env 0\n",
       "\n",
       "Raw input:\n",
       "{\"cmd\": \"def f := 2\"}\n",
       "Raw output:\n",
       "{\"env\": 0}"
      ]
     },
     "metadata": {},
     "output_type": "display_data"
    }
   ],
   "source": [
    "def f := 2"
   ]
  },
  {
   "cell_type": "markdown",
   "id": "e6367004-30ca-4324-b37c-555a1e0db595",
   "metadata": {
    "papermill": {
     "duration": 0.002821,
     "end_time": "2024-06-03T09:48:06.420103",
     "exception": false,
     "start_time": "2024-06-03T09:48:06.417282",
     "status": "completed"
    },
    "tags": []
   },
   "source": [
    "The inputs are echoed using [alectryon](https://github.com/cpitclaudel/alectryon?tab=readme-ov-file#as-a-library) style annotation of output messages (info, 🟨warning, ❌error) on the corresponding lines (not columns yet), with details of raw input/outputs to [repl](https://github.com/leanprover-community/repl).\n",
    "\n",
    "There's a state that looks like `--% env 0`, it is the state after executing the last command, and will be used as the initial state for executing the next command.\n",
    "\n",
    "You can inspect the raw input/output sent to [repl](https://github.com/leanprover-community/repl) by clicking-to-expand."
   ]
  },
  {
   "cell_type": "markdown",
   "id": "dfc2ac4a-6e7a-40cb-af99-2d8b186884e7",
   "metadata": {
    "papermill": {
     "duration": 0.004559,
     "end_time": "2024-06-03T09:48:06.428034",
     "exception": false,
     "start_time": "2024-06-03T09:48:06.423475",
     "status": "completed"
    },
    "tags": []
   },
   "source": [
    "2. You can also run commands like inspecting declarations:"
   ]
  },
  {
   "cell_type": "code",
   "execution_count": 2,
   "id": "0bdc97f2-2915-4a0c-affd-d3e4e1020cf8",
   "metadata": {
    "execution": {
     "iopub.execute_input": "2024-06-03T09:48:06.443380Z",
     "iopub.status.busy": "2024-06-03T09:48:06.443044Z",
     "iopub.status.idle": "2024-06-03T09:48:06.559328Z",
     "shell.execute_reply": "2024-06-03T09:48:06.558818Z"
    },
    "papermill": {
     "duration": 0.126057,
     "end_time": "2024-06-03T09:48:06.561369",
     "exception": false,
     "start_time": "2024-06-03T09:48:06.435312",
     "status": "completed"
    },
    "tags": []
   },
   "outputs": [
    {
     "data": {
      "text/html": [
       "\n",
       "        \n",
       "        <link rel=\"stylesheet\" href=\"https://lean-lang.org/lean4/doc/alectryon.css\">\n",
       "        <link rel=\"stylesheet\" href=\"https://lean-lang.org/lean4/doc/pygments.css\">\n",
       "        <script src=\"https://lean-lang.org/lean4/doc/alectryon.js\"></script>\n",
       "        <script src=\"https://lean-lang.org/lean4/doc/highlight.js\"></script>\n",
       "        <style>\n",
       "            @media (any-hover: hover) {\n",
       "                .alectryon-io .alectryon-sentence:hover .alectryon-output,\n",
       "                .alectryon-io .alectryon-token:hover .alectryon-type-info-wrapper,\n",
       "                .alectryon-io .alectryon-token:hover .alectryon-type-info-wrapper {\n",
       "                    position: unset;\n",
       "                }\n",
       "            }\n",
       "\n",
       "            .highlight .w, .code .w {\n",
       "                color: #d3d7cf;\n",
       "                text-decoration: none;\n",
       "            }\n",
       "\n",
       "            body[data-jp-theme-light=\"false\"] .alectryon-io .alectryon-goals,\n",
       "            body[data-jp-theme-light=\"false\"] .alectryon-io .alectryon-messages,\n",
       "            body[data-jp-theme-light=\"false\"] .alectryon-io .alectryon-goal,\n",
       "            body[data-jp-theme-light=\"false\"] .alectryon-io .alectryon-message {\n",
       "                background: black;\n",
       "            }\n",
       "        </style>\n",
       "    \n",
       "        <div class=\"alectryon-root alectryon-centered\">\n",
       "            <pre class=\"alectryon-io highlight\"><!-- Generator: Alectryon --><span class=\"alectryon-sentence\"><input class=\"alectryon-toggle\" id=\"chk0\" style=\"display: none\" type=\"checkbox\"><label class=\"alectryon-input\" for=\"chk0\"><span class=\"bp\">#</span>check<span class=\"w\"> </span>f</label><small class=\"alectryon-output\"><div><div class=\"alectryon-messages\"><blockquote class=\"alectryon-message\"> f<span class=\"w\"> </span>:<span class=\"w\"> </span>Nat</blockquote></div></div></small></span></pre>\n",
       "<pre class=\"alectryon-io highlight\"><!-- Generator: Alectryon --><span class=\"alectryon-sentence\"><span class=\"alectryon-input\"><span class=\"c1\">--% env 1</span></span></span></pre>\n",
       "        </div>\n",
       "        <details>\n",
       "            <summary>Raw input</summary>\n",
       "            <code>{\"cmd\": \"#check f\", \"env\": 0}</code>\n",
       "        </details>\n",
       "        <details>\n",
       "            <summary>Raw output</summary>\n",
       "            <code>{\"messages\":\r\n",
       " [{\"severity\": \"info\",\r\n",
       "   \"pos\": {\"line\": 1, \"column\": 0},\r\n",
       "   \"endPos\": {\"line\": 1, \"column\": 6},\r\n",
       "   \"data\": \"f : Nat\"}],\r\n",
       " \"env\": 1}</code>\n",
       "        </details>\n",
       "    "
      ],
      "text/plain": [
       "#check f\n",
       "──────▶  f : Nat\n",
       "--% env 1\n",
       "\n",
       "Raw input:\n",
       "{\"cmd\": \"#check f\", \"env\": 0}\n",
       "Raw output:\n",
       "{\"messages\":\r\n",
       " [{\"severity\": \"info\",\r\n",
       "   \"pos\": {\"line\": 1, \"column\": 0},\r\n",
       "   \"endPos\": {\"line\": 1, \"column\": 6},\r\n",
       "   \"data\": \"f : Nat\"}],\r\n",
       " \"env\": 1}"
      ]
     },
     "metadata": {},
     "output_type": "display_data"
    }
   ],
   "source": [
    "#check f"
   ]
  },
  {
   "cell_type": "markdown",
   "id": "08f00220-3215-49da-8b09-d0c4176ad3ad",
   "metadata": {
    "papermill": {
     "duration": 0.002743,
     "end_time": "2024-06-03T09:48:06.567038",
     "exception": false,
     "start_time": "2024-06-03T09:48:06.564295",
     "status": "completed"
    },
    "tags": []
   },
   "source": [
    "3. Or run multiple commands across multiple lines:"
   ]
  },
  {
   "cell_type": "code",
   "execution_count": 3,
   "id": "fda6d1bd-a506-44ce-9aba-768ee5fc0a98",
   "metadata": {
    "execution": {
     "iopub.execute_input": "2024-06-03T09:48:06.573770Z",
     "iopub.status.busy": "2024-06-03T09:48:06.573589Z",
     "iopub.status.idle": "2024-06-03T09:48:06.691207Z",
     "shell.execute_reply": "2024-06-03T09:48:06.690809Z"
    },
    "papermill": {
     "duration": 0.123649,
     "end_time": "2024-06-03T09:48:06.693380",
     "exception": false,
     "start_time": "2024-06-03T09:48:06.569731",
     "status": "completed"
    },
    "tags": []
   },
   "outputs": [
    {
     "data": {
      "text/html": [
       "\n",
       "        \n",
       "        <link rel=\"stylesheet\" href=\"https://lean-lang.org/lean4/doc/alectryon.css\">\n",
       "        <link rel=\"stylesheet\" href=\"https://lean-lang.org/lean4/doc/pygments.css\">\n",
       "        <script src=\"https://lean-lang.org/lean4/doc/alectryon.js\"></script>\n",
       "        <script src=\"https://lean-lang.org/lean4/doc/highlight.js\"></script>\n",
       "        <style>\n",
       "            @media (any-hover: hover) {\n",
       "                .alectryon-io .alectryon-sentence:hover .alectryon-output,\n",
       "                .alectryon-io .alectryon-token:hover .alectryon-type-info-wrapper,\n",
       "                .alectryon-io .alectryon-token:hover .alectryon-type-info-wrapper {\n",
       "                    position: unset;\n",
       "                }\n",
       "            }\n",
       "\n",
       "            .highlight .w, .code .w {\n",
       "                color: #d3d7cf;\n",
       "                text-decoration: none;\n",
       "            }\n",
       "\n",
       "            body[data-jp-theme-light=\"false\"] .alectryon-io .alectryon-goals,\n",
       "            body[data-jp-theme-light=\"false\"] .alectryon-io .alectryon-messages,\n",
       "            body[data-jp-theme-light=\"false\"] .alectryon-io .alectryon-goal,\n",
       "            body[data-jp-theme-light=\"false\"] .alectryon-io .alectryon-message {\n",
       "                background: black;\n",
       "            }\n",
       "        </style>\n",
       "    \n",
       "        <div class=\"alectryon-root alectryon-centered\">\n",
       "            <pre class=\"alectryon-io highlight\"><!-- Generator: Alectryon --><span class=\"alectryon-sentence\"><span class=\"alectryon-input\"><span class=\"kn\">def</span><span class=\"w\"> </span>add<span class=\"w\"> </span>(x<span class=\"w\"> </span>y<span class=\"w\"> </span>:<span class=\"w\"> </span>Nat)<span class=\"w\"> </span>:<span class=\"w\"> </span>Nat<span class=\"w\"> </span>:=<span class=\"w\"> </span>x<span class=\"w\"> </span><span class=\"bp\">+</span><span class=\"w\"> </span>y</span></span></pre>\n",
       "<pre class=\"alectryon-io highlight\"><!-- Generator: Alectryon --><span class=\"alectryon-sentence\"><input class=\"alectryon-toggle\" id=\"chk1\" style=\"display: none\" type=\"checkbox\"><label class=\"alectryon-input\" for=\"chk1\"><span class=\"bp\">#</span>print<span class=\"w\"> </span>add</label><small class=\"alectryon-output\"><div><div class=\"alectryon-messages\"><blockquote class=\"alectryon-message\"> <span class=\"kn\">def</span><span class=\"w\"> </span>add<span class=\"w\"> </span>:<span class=\"w\"> </span>Nat<span class=\"w\"> </span><span class=\"bp\">→</span><span class=\"w\"> </span>Nat<span class=\"w\"> </span><span class=\"bp\">→</span><span class=\"w\"> </span>Nat<span class=\"w\"> </span>:=\n",
       "<span class=\"k\">fun</span><span class=\"w\"> </span>x<span class=\"w\"> </span>y<span class=\"w\"> </span><span class=\"bp\">=&gt;</span><span class=\"w\"> </span>x<span class=\"w\"> </span><span class=\"bp\">+</span><span class=\"w\"> </span>y</blockquote></div></div></small></span></pre>\n",
       "<pre class=\"alectryon-io highlight\"><!-- Generator: Alectryon --><span class=\"alectryon-sentence\"><span class=\"alectryon-input\"><span class=\"c1\">--% env 2</span></span></span></pre>\n",
       "        </div>\n",
       "        <details>\n",
       "            <summary>Raw input</summary>\n",
       "            <code>{\"cmd\": \"def add (x y : Nat) : Nat := x + y\\n#print add\", \"env\": 1}</code>\n",
       "        </details>\n",
       "        <details>\n",
       "            <summary>Raw output</summary>\n",
       "            <code>{\"messages\":\r\n",
       " [{\"severity\": \"info\",\r\n",
       "   \"pos\": {\"line\": 2, \"column\": 0},\r\n",
       "   \"endPos\": {\"line\": 2, \"column\": 6},\r\n",
       "   \"data\": \"def add : Nat → Nat → Nat :=\\nfun x y => x + y\"}],\r\n",
       " \"env\": 2}</code>\n",
       "        </details>\n",
       "    "
      ],
      "text/plain": [
       "def add (x y : Nat) : Nat := x + y\n",
       "#print add\n",
       "──────▶  def add : Nat → Nat → Nat :=\n",
       "fun x y => x + y\n",
       "--% env 2\n",
       "\n",
       "Raw input:\n",
       "{\"cmd\": \"def add (x y : Nat) : Nat := x + y\\n#print add\", \"env\": 1}\n",
       "Raw output:\n",
       "{\"messages\":\r\n",
       " [{\"severity\": \"info\",\r\n",
       "   \"pos\": {\"line\": 2, \"column\": 0},\r\n",
       "   \"endPos\": {\"line\": 2, \"column\": 6},\r\n",
       "   \"data\": \"def add : Nat → Nat → Nat :=\\nfun x y => x + y\"}],\r\n",
       " \"env\": 2}"
      ]
     },
     "metadata": {},
     "output_type": "display_data"
    }
   ],
   "source": [
    "def add (x y : Nat) : Nat := x + y\n",
    "#print add"
   ]
  },
  {
   "cell_type": "markdown",
   "id": "befe0437-8dd7-4632-b8f8-86e6e9b3c423",
   "metadata": {
    "papermill": {
     "duration": 0.002801,
     "end_time": "2024-06-03T09:48:06.699287",
     "exception": false,
     "start_time": "2024-06-03T09:48:06.696486",
     "status": "completed"
    },
    "tags": []
   },
   "source": [
    "4. See below for an error:"
   ]
  },
  {
   "cell_type": "code",
   "execution_count": 4,
   "id": "e8824928-0e61-485b-ba75-6bbfb2006c6b",
   "metadata": {
    "execution": {
     "iopub.execute_input": "2024-06-03T09:48:06.705862Z",
     "iopub.status.busy": "2024-06-03T09:48:06.705669Z",
     "iopub.status.idle": "2024-06-03T09:48:06.819301Z",
     "shell.execute_reply": "2024-06-03T09:48:06.818689Z"
    },
    "papermill": {
     "duration": 0.118739,
     "end_time": "2024-06-03T09:48:06.820732",
     "exception": false,
     "start_time": "2024-06-03T09:48:06.701993",
     "status": "completed"
    },
    "tags": []
   },
   "outputs": [
    {
     "data": {
      "text/html": [
       "\n",
       "        \n",
       "        <link rel=\"stylesheet\" href=\"https://lean-lang.org/lean4/doc/alectryon.css\">\n",
       "        <link rel=\"stylesheet\" href=\"https://lean-lang.org/lean4/doc/pygments.css\">\n",
       "        <script src=\"https://lean-lang.org/lean4/doc/alectryon.js\"></script>\n",
       "        <script src=\"https://lean-lang.org/lean4/doc/highlight.js\"></script>\n",
       "        <style>\n",
       "            @media (any-hover: hover) {\n",
       "                .alectryon-io .alectryon-sentence:hover .alectryon-output,\n",
       "                .alectryon-io .alectryon-token:hover .alectryon-type-info-wrapper,\n",
       "                .alectryon-io .alectryon-token:hover .alectryon-type-info-wrapper {\n",
       "                    position: unset;\n",
       "                }\n",
       "            }\n",
       "\n",
       "            .highlight .w, .code .w {\n",
       "                color: #d3d7cf;\n",
       "                text-decoration: none;\n",
       "            }\n",
       "\n",
       "            body[data-jp-theme-light=\"false\"] .alectryon-io .alectryon-goals,\n",
       "            body[data-jp-theme-light=\"false\"] .alectryon-io .alectryon-messages,\n",
       "            body[data-jp-theme-light=\"false\"] .alectryon-io .alectryon-goal,\n",
       "            body[data-jp-theme-light=\"false\"] .alectryon-io .alectryon-message {\n",
       "                background: black;\n",
       "            }\n",
       "        </style>\n",
       "    \n",
       "        <div class=\"alectryon-root alectryon-centered\">\n",
       "            <pre class=\"alectryon-io highlight\"><!-- Generator: Alectryon --><span class=\"alectryon-sentence\"><input class=\"alectryon-toggle\" id=\"chk2\" style=\"display: none\" type=\"checkbox\"><label class=\"alectryon-input\" for=\"chk2\"><span class=\"bp\">#</span>check<span class=\"w\"> </span>g</label><small class=\"alectryon-output\"><div><div class=\"alectryon-messages\"><blockquote class=\"alectryon-message\"><span class=\"bp\">❌</span><span class=\"w\"> </span>unknown<span class=\"w\"> </span>identifier<span class=\"w\"> </span><span class=\"bp\">&#39;</span>g&#39;</blockquote></div></div></small></span></pre>\n",
       "<pre class=\"alectryon-io highlight\"><!-- Generator: Alectryon --><span class=\"alectryon-sentence\"><span class=\"alectryon-input\"><span class=\"c1\">--% env 3</span></span></span></pre>\n",
       "        </div>\n",
       "        <details>\n",
       "            <summary>Raw input</summary>\n",
       "            <code>{\"cmd\": \"#check g\", \"env\": 2}</code>\n",
       "        </details>\n",
       "        <details>\n",
       "            <summary>Raw output</summary>\n",
       "            <code>{\"messages\":\r\n",
       " [{\"severity\": \"error\",\r\n",
       "   \"pos\": {\"line\": 1, \"column\": 7},\r\n",
       "   \"endPos\": {\"line\": 1, \"column\": 8},\r\n",
       "   \"data\": \"unknown identifier 'g'\"}],\r\n",
       " \"env\": 3}</code>\n",
       "        </details>\n",
       "    "
      ],
      "text/plain": [
       "#check g\n",
       "       ─▶ ❌ unknown identifier 'g'\n",
       "--% env 3\n",
       "\n",
       "Raw input:\n",
       "{\"cmd\": \"#check g\", \"env\": 2}\n",
       "Raw output:\n",
       "{\"messages\":\r\n",
       " [{\"severity\": \"error\",\r\n",
       "   \"pos\": {\"line\": 1, \"column\": 7},\r\n",
       "   \"endPos\": {\"line\": 1, \"column\": 8},\r\n",
       "   \"data\": \"unknown identifier 'g'\"}],\r\n",
       " \"env\": 3}"
      ]
     },
     "metadata": {},
     "output_type": "display_data"
    }
   ],
   "source": [
    "#check g"
   ]
  },
  {
   "cell_type": "markdown",
   "id": "c1d2a45a-d5eb-49b9-8000-03c831efa227",
   "metadata": {
    "papermill": {
     "duration": 0.002815,
     "end_time": "2024-06-03T09:48:06.826710",
     "exception": false,
     "start_time": "2024-06-03T09:48:06.823895",
     "status": "completed"
    },
    "tags": []
   },
   "source": [
    "### Backtracking\n",
    "\n",
    "Begin with a state like `%env 0` (the syntax mimics Jupyter magic but the output will be prepended with `--` so they are valid Lean comments), you can backtrack. You can actually enter `--%env 0`, `% env 0` or `%e0`. we are trying to be flexible here so you don't need to worry about invalid Lean code, spaces and exact spelling.\n",
    "\n",
    "The following goes back before declaring `add` and try to inspect `add`, which will result in an error:"
   ]
  },
  {
   "cell_type": "code",
   "execution_count": 5,
   "id": "9afd7ef2-375e-44bf-85a6-c48d86ff28ac",
   "metadata": {
    "execution": {
     "iopub.execute_input": "2024-06-03T09:48:06.833864Z",
     "iopub.status.busy": "2024-06-03T09:48:06.833519Z",
     "iopub.status.idle": "2024-06-03T09:48:06.947451Z",
     "shell.execute_reply": "2024-06-03T09:48:06.946589Z"
    },
    "papermill": {
     "duration": 0.119236,
     "end_time": "2024-06-03T09:48:06.948906",
     "exception": false,
     "start_time": "2024-06-03T09:48:06.829670",
     "status": "completed"
    },
    "tags": []
   },
   "outputs": [
    {
     "data": {
      "text/html": [
       "\n",
       "        \n",
       "        <link rel=\"stylesheet\" href=\"https://lean-lang.org/lean4/doc/alectryon.css\">\n",
       "        <link rel=\"stylesheet\" href=\"https://lean-lang.org/lean4/doc/pygments.css\">\n",
       "        <script src=\"https://lean-lang.org/lean4/doc/alectryon.js\"></script>\n",
       "        <script src=\"https://lean-lang.org/lean4/doc/highlight.js\"></script>\n",
       "        <style>\n",
       "            @media (any-hover: hover) {\n",
       "                .alectryon-io .alectryon-sentence:hover .alectryon-output,\n",
       "                .alectryon-io .alectryon-token:hover .alectryon-type-info-wrapper,\n",
       "                .alectryon-io .alectryon-token:hover .alectryon-type-info-wrapper {\n",
       "                    position: unset;\n",
       "                }\n",
       "            }\n",
       "\n",
       "            .highlight .w, .code .w {\n",
       "                color: #d3d7cf;\n",
       "                text-decoration: none;\n",
       "            }\n",
       "\n",
       "            body[data-jp-theme-light=\"false\"] .alectryon-io .alectryon-goals,\n",
       "            body[data-jp-theme-light=\"false\"] .alectryon-io .alectryon-messages,\n",
       "            body[data-jp-theme-light=\"false\"] .alectryon-io .alectryon-goal,\n",
       "            body[data-jp-theme-light=\"false\"] .alectryon-io .alectryon-message {\n",
       "                background: black;\n",
       "            }\n",
       "        </style>\n",
       "    \n",
       "        <div class=\"alectryon-root alectryon-centered\">\n",
       "            <pre class=\"alectryon-io highlight\"><!-- Generator: Alectryon --><span class=\"alectryon-sentence\"><span class=\"alectryon-input\"><span class=\"c1\">--%env 1</span></span></span></pre>\n",
       "<pre class=\"alectryon-io highlight\"><!-- Generator: Alectryon --><span class=\"alectryon-sentence\"><input class=\"alectryon-toggle\" id=\"chk3\" style=\"display: none\" type=\"checkbox\"><label class=\"alectryon-input\" for=\"chk3\"><span class=\"bp\">#</span>check<span class=\"w\"> </span>add</label><small class=\"alectryon-output\"><div><div class=\"alectryon-messages\"><blockquote class=\"alectryon-message\"><span class=\"bp\">❌</span><span class=\"w\"> </span>unknown<span class=\"w\"> </span>identifier<span class=\"w\"> </span><span class=\"bp\">&#39;</span>add&#39;</blockquote></div></div></small></span></pre>\n",
       "<pre class=\"alectryon-io highlight\"><!-- Generator: Alectryon --><span class=\"alectryon-sentence\"><span class=\"alectryon-input\"><span class=\"c1\">--% env 4</span></span></span></pre>\n",
       "        </div>\n",
       "        <details>\n",
       "            <summary>Raw input</summary>\n",
       "            <code>{\"cmd\": \"--%env 1\\n#check add\", \"env\": 1}</code>\n",
       "        </details>\n",
       "        <details>\n",
       "            <summary>Raw output</summary>\n",
       "            <code>{\"messages\":\r\n",
       " [{\"severity\": \"error\",\r\n",
       "   \"pos\": {\"line\": 2, \"column\": 7},\r\n",
       "   \"endPos\": {\"line\": 2, \"column\": 10},\r\n",
       "   \"data\": \"unknown identifier 'add'\"}],\r\n",
       " \"env\": 4}</code>\n",
       "        </details>\n",
       "    "
      ],
      "text/plain": [
       "--%env 1\n",
       "#check add\n",
       "       ───▶ ❌ unknown identifier 'add'\n",
       "--% env 4\n",
       "\n",
       "Raw input:\n",
       "{\"cmd\": \"--%env 1\\n#check add\", \"env\": 1}\n",
       "Raw output:\n",
       "{\"messages\":\r\n",
       " [{\"severity\": \"error\",\r\n",
       "   \"pos\": {\"line\": 2, \"column\": 7},\r\n",
       "   \"endPos\": {\"line\": 2, \"column\": 10},\r\n",
       "   \"data\": \"unknown identifier 'add'\"}],\r\n",
       " \"env\": 4}"
      ]
     },
     "metadata": {},
     "output_type": "display_data"
    }
   ],
   "source": [
    "%env 1\n",
    "#check add"
   ]
  },
  {
   "cell_type": "markdown",
   "id": "81059c14-1608-4a4d-8f48-8d1150964bb2",
   "metadata": {
    "papermill": {
     "duration": 0.002936,
     "end_time": "2024-06-03T09:48:06.955270",
     "exception": false,
     "start_time": "2024-06-03T09:48:06.952334",
     "status": "completed"
    },
    "tags": []
   },
   "source": [
    "If you enter [Built-in magic commands](https://ipython.readthedocs.io/en/stable/interactive/magics.html), this should not cause an error, but also has no effect:"
   ]
  },
  {
   "cell_type": "code",
   "execution_count": 6,
   "id": "2d62b040-7d5c-4252-8c0d-78fa7648b9a2",
   "metadata": {
    "execution": {
     "iopub.execute_input": "2024-06-03T09:48:06.962756Z",
     "iopub.status.busy": "2024-06-03T09:48:06.962596Z",
     "iopub.status.idle": "2024-06-03T09:48:07.076175Z",
     "shell.execute_reply": "2024-06-03T09:48:07.075810Z"
    },
    "papermill": {
     "duration": 0.119209,
     "end_time": "2024-06-03T09:48:07.077552",
     "exception": false,
     "start_time": "2024-06-03T09:48:06.958343",
     "status": "completed"
    },
    "tags": []
   },
   "outputs": [
    {
     "data": {
      "text/html": [
       "\n",
       "        \n",
       "        <link rel=\"stylesheet\" href=\"https://lean-lang.org/lean4/doc/alectryon.css\">\n",
       "        <link rel=\"stylesheet\" href=\"https://lean-lang.org/lean4/doc/pygments.css\">\n",
       "        <script src=\"https://lean-lang.org/lean4/doc/alectryon.js\"></script>\n",
       "        <script src=\"https://lean-lang.org/lean4/doc/highlight.js\"></script>\n",
       "        <style>\n",
       "            @media (any-hover: hover) {\n",
       "                .alectryon-io .alectryon-sentence:hover .alectryon-output,\n",
       "                .alectryon-io .alectryon-token:hover .alectryon-type-info-wrapper,\n",
       "                .alectryon-io .alectryon-token:hover .alectryon-type-info-wrapper {\n",
       "                    position: unset;\n",
       "                }\n",
       "            }\n",
       "\n",
       "            .highlight .w, .code .w {\n",
       "                color: #d3d7cf;\n",
       "                text-decoration: none;\n",
       "            }\n",
       "\n",
       "            body[data-jp-theme-light=\"false\"] .alectryon-io .alectryon-goals,\n",
       "            body[data-jp-theme-light=\"false\"] .alectryon-io .alectryon-messages,\n",
       "            body[data-jp-theme-light=\"false\"] .alectryon-io .alectryon-goal,\n",
       "            body[data-jp-theme-light=\"false\"] .alectryon-io .alectryon-message {\n",
       "                background: black;\n",
       "            }\n",
       "        </style>\n",
       "    \n",
       "        <div class=\"alectryon-root alectryon-centered\">\n",
       "            <pre class=\"alectryon-io highlight\"><!-- Generator: Alectryon --><span class=\"alectryon-sentence\"><span class=\"alectryon-input\"><span class=\"c1\">--%history</span></span></span></pre>\n",
       "<pre class=\"alectryon-io highlight\"><!-- Generator: Alectryon --><span class=\"alectryon-sentence\"><span class=\"alectryon-input\"><span class=\"kn\">def</span><span class=\"w\"> </span>h<span class=\"w\"> </span>:=<span class=\"w\"> </span><span class=\"mi\">3</span></span></span></pre>\n",
       "<pre class=\"alectryon-io highlight\"><!-- Generator: Alectryon --><span class=\"alectryon-sentence\"><span class=\"alectryon-input\"><span class=\"c1\">--% env 5</span></span></span></pre>\n",
       "        </div>\n",
       "        <details>\n",
       "            <summary>Raw input</summary>\n",
       "            <code>{\"cmd\": \"--%history\\ndef h := 3\", \"env\": 4}</code>\n",
       "        </details>\n",
       "        <details>\n",
       "            <summary>Raw output</summary>\n",
       "            <code>{\"env\": 5}</code>\n",
       "        </details>\n",
       "    "
      ],
      "text/plain": [
       "--%history\n",
       "def h := 3\n",
       "--% env 5\n",
       "\n",
       "Raw input:\n",
       "{\"cmd\": \"--%history\\ndef h := 3\", \"env\": 4}\n",
       "Raw output:\n",
       "{\"env\": 5}"
      ]
     },
     "metadata": {},
     "output_type": "display_data"
    }
   ],
   "source": [
    "%history\n",
    "def h := 3"
   ]
  },
  {
   "cell_type": "markdown",
   "id": "237589b4-d634-4bbb-afcf-eea8ea15a8b2",
   "metadata": {
    "papermill": {
     "duration": 0.003168,
     "end_time": "2024-06-03T09:48:07.083980",
     "exception": false,
     "start_time": "2024-06-03T09:48:07.080812",
     "status": "completed"
    },
    "tags": []
   },
   "source": [
    "## Proofs\n",
    "\n",
    "### Proving sorries"
   ]
  },
  {
   "cell_type": "markdown",
   "id": "01907716-58cd-4731-81df-cafc3076994b",
   "metadata": {
    "papermill": {
     "duration": 0.003014,
     "end_time": "2024-06-03T09:48:07.090237",
     "exception": false,
     "start_time": "2024-06-03T09:48:07.087223",
     "status": "completed"
    },
    "tags": []
   },
   "source": [
    "You can declare a theorem to prove with `sorry`"
   ]
  },
  {
   "cell_type": "code",
   "execution_count": 7,
   "id": "a6739c0f-3107-43bd-8efe-e80956a5f249",
   "metadata": {
    "execution": {
     "iopub.execute_input": "2024-06-03T09:48:07.097386Z",
     "iopub.status.busy": "2024-06-03T09:48:07.097189Z",
     "iopub.status.idle": "2024-06-03T09:48:07.207944Z",
     "shell.execute_reply": "2024-06-03T09:48:07.207445Z"
    },
    "papermill": {
     "duration": 0.116276,
     "end_time": "2024-06-03T09:48:07.209592",
     "exception": false,
     "start_time": "2024-06-03T09:48:07.093316",
     "status": "completed"
    },
    "tags": []
   },
   "outputs": [
    {
     "data": {
      "text/html": [
       "\n",
       "        \n",
       "        <link rel=\"stylesheet\" href=\"https://lean-lang.org/lean4/doc/alectryon.css\">\n",
       "        <link rel=\"stylesheet\" href=\"https://lean-lang.org/lean4/doc/pygments.css\">\n",
       "        <script src=\"https://lean-lang.org/lean4/doc/alectryon.js\"></script>\n",
       "        <script src=\"https://lean-lang.org/lean4/doc/highlight.js\"></script>\n",
       "        <style>\n",
       "            @media (any-hover: hover) {\n",
       "                .alectryon-io .alectryon-sentence:hover .alectryon-output,\n",
       "                .alectryon-io .alectryon-token:hover .alectryon-type-info-wrapper,\n",
       "                .alectryon-io .alectryon-token:hover .alectryon-type-info-wrapper {\n",
       "                    position: unset;\n",
       "                }\n",
       "            }\n",
       "\n",
       "            .highlight .w, .code .w {\n",
       "                color: #d3d7cf;\n",
       "                text-decoration: none;\n",
       "            }\n",
       "\n",
       "            body[data-jp-theme-light=\"false\"] .alectryon-io .alectryon-goals,\n",
       "            body[data-jp-theme-light=\"false\"] .alectryon-io .alectryon-messages,\n",
       "            body[data-jp-theme-light=\"false\"] .alectryon-io .alectryon-goal,\n",
       "            body[data-jp-theme-light=\"false\"] .alectryon-io .alectryon-message {\n",
       "                background: black;\n",
       "            }\n",
       "        </style>\n",
       "    \n",
       "        <div class=\"alectryon-root alectryon-centered\">\n",
       "            <pre class=\"alectryon-io highlight\"><!-- Generator: Alectryon --><span class=\"alectryon-sentence\"><input class=\"alectryon-toggle\" id=\"chk4\" style=\"display: none\" type=\"checkbox\"><label class=\"alectryon-input\" for=\"chk4\"><span class=\"kn\">theorem</span><span class=\"w\"> </span>thm1<span class=\"w\"> </span>:<span class=\"w\"> </span><span class=\"mi\">1</span><span class=\"w\"> </span><span class=\"bp\">=</span><span class=\"w\"> </span><span class=\"mi\">1</span><span class=\"w\"> </span>:=<span class=\"w\"> </span><span class=\"gr\">sorry</span></label><small class=\"alectryon-output\"><div><div class=\"alectryon-messages\"><blockquote class=\"alectryon-message\"><span class=\"bp\">🟨</span><span class=\"w\"> </span>declaration<span class=\"w\"> </span>uses<span class=\"w\"> </span><span class=\"bp\">&#39;</span><span class=\"gr\">sorry</span><span class=\"bp\">&#39;</span></blockquote></div></div></small></span></pre>\n",
       "<pre class=\"alectryon-io highlight\"><!-- Generator: Alectryon --><span class=\"alectryon-sentence\"><span class=\"alectryon-input\"><span class=\"c1\">--% env 6</span></span></span></pre>\n",
       "<pre class=\"alectryon-io highlight\"><!-- Generator: Alectryon --><span class=\"alectryon-sentence\"><span class=\"alectryon-input\"><span class=\"c1\">--% prove 0</span></span></span></pre>\n",
       "        </div>\n",
       "        <details>\n",
       "            <summary>Raw input</summary>\n",
       "            <code>{\"cmd\": \"theorem thm1 : 1 = 1 := sorry\", \"env\": 5}</code>\n",
       "        </details>\n",
       "        <details>\n",
       "            <summary>Raw output</summary>\n",
       "            <code>{\"sorries\":\r\n",
       " [{\"proofState\": 0,\r\n",
       "   \"pos\": {\"line\": 1, \"column\": 24},\r\n",
       "   \"goal\": \"⊢ 1 = 1\",\r\n",
       "   \"endPos\": {\"line\": 1, \"column\": 29}}],\r\n",
       " \"messages\":\r\n",
       " [{\"severity\": \"warning\",\r\n",
       "   \"pos\": {\"line\": 1, \"column\": 8},\r\n",
       "   \"endPos\": {\"line\": 1, \"column\": 12},\r\n",
       "   \"data\": \"declaration uses 'sorry'\"}],\r\n",
       " \"env\": 6}</code>\n",
       "        </details>\n",
       "    "
      ],
      "text/plain": [
       "theorem thm1 : 1 = 1 := sorry\n",
       "        ────▶ 🟨 declaration uses 'sorry'\n",
       "--% env 6\n",
       "--% prove 0\n",
       "\n",
       "Raw input:\n",
       "{\"cmd\": \"theorem thm1 : 1 = 1 := sorry\", \"env\": 5}\n",
       "Raw output:\n",
       "{\"sorries\":\r\n",
       " [{\"proofState\": 0,\r\n",
       "   \"pos\": {\"line\": 1, \"column\": 24},\r\n",
       "   \"goal\": \"⊢ 1 = 1\",\r\n",
       "   \"endPos\": {\"line\": 1, \"column\": 29}}],\r\n",
       " \"messages\":\r\n",
       " [{\"severity\": \"warning\",\r\n",
       "   \"pos\": {\"line\": 1, \"column\": 8},\r\n",
       "   \"endPos\": {\"line\": 1, \"column\": 12},\r\n",
       "   \"data\": \"declaration uses 'sorry'\"}],\r\n",
       " \"env\": 6}"
      ]
     },
     "metadata": {},
     "output_type": "display_data"
    }
   ],
   "source": [
    "theorem thm1 : 1 = 1 := sorry"
   ]
  },
  {
   "cell_type": "markdown",
   "id": "9005ad65-7724-4988-be39-47e7558d6ed3",
   "metadata": {
    "papermill": {
     "duration": 0.003101,
     "end_time": "2024-06-03T09:48:07.216019",
     "exception": false,
     "start_time": "2024-06-03T09:48:07.212918",
     "status": "completed"
    },
    "tags": []
   },
   "source": [
    "By default, what you input next would still be another command:"
   ]
  },
  {
   "cell_type": "code",
   "execution_count": 8,
   "id": "711268bc-81eb-4e50-830a-0c576f24678e",
   "metadata": {
    "execution": {
     "iopub.execute_input": "2024-06-03T09:48:07.223556Z",
     "iopub.status.busy": "2024-06-03T09:48:07.223397Z",
     "iopub.status.idle": "2024-06-03T09:48:07.336775Z",
     "shell.execute_reply": "2024-06-03T09:48:07.336296Z"
    },
    "papermill": {
     "duration": 0.118834,
     "end_time": "2024-06-03T09:48:07.338150",
     "exception": false,
     "start_time": "2024-06-03T09:48:07.219316",
     "status": "completed"
    },
    "tags": []
   },
   "outputs": [
    {
     "data": {
      "text/html": [
       "\n",
       "        \n",
       "        <link rel=\"stylesheet\" href=\"https://lean-lang.org/lean4/doc/alectryon.css\">\n",
       "        <link rel=\"stylesheet\" href=\"https://lean-lang.org/lean4/doc/pygments.css\">\n",
       "        <script src=\"https://lean-lang.org/lean4/doc/alectryon.js\"></script>\n",
       "        <script src=\"https://lean-lang.org/lean4/doc/highlight.js\"></script>\n",
       "        <style>\n",
       "            @media (any-hover: hover) {\n",
       "                .alectryon-io .alectryon-sentence:hover .alectryon-output,\n",
       "                .alectryon-io .alectryon-token:hover .alectryon-type-info-wrapper,\n",
       "                .alectryon-io .alectryon-token:hover .alectryon-type-info-wrapper {\n",
       "                    position: unset;\n",
       "                }\n",
       "            }\n",
       "\n",
       "            .highlight .w, .code .w {\n",
       "                color: #d3d7cf;\n",
       "                text-decoration: none;\n",
       "            }\n",
       "\n",
       "            body[data-jp-theme-light=\"false\"] .alectryon-io .alectryon-goals,\n",
       "            body[data-jp-theme-light=\"false\"] .alectryon-io .alectryon-messages,\n",
       "            body[data-jp-theme-light=\"false\"] .alectryon-io .alectryon-goal,\n",
       "            body[data-jp-theme-light=\"false\"] .alectryon-io .alectryon-message {\n",
       "                background: black;\n",
       "            }\n",
       "        </style>\n",
       "    \n",
       "        <div class=\"alectryon-root alectryon-centered\">\n",
       "            <pre class=\"alectryon-io highlight\"><!-- Generator: Alectryon --><span class=\"alectryon-sentence\"><input class=\"alectryon-toggle\" id=\"chk5\" style=\"display: none\" type=\"checkbox\"><label class=\"alectryon-input\" for=\"chk5\"><span class=\"bp\">#</span>check<span class=\"w\"> </span>thm1</label><small class=\"alectryon-output\"><div><div class=\"alectryon-messages\"><blockquote class=\"alectryon-message\"> thm1<span class=\"w\"> </span>:<span class=\"w\"> </span><span class=\"mi\">1</span><span class=\"w\"> </span><span class=\"bp\">=</span><span class=\"w\"> </span><span class=\"mi\">1</span></blockquote></div></div></small></span></pre>\n",
       "<pre class=\"alectryon-io highlight\"><!-- Generator: Alectryon --><span class=\"alectryon-sentence\"><span class=\"alectryon-input\"><span class=\"c1\">--% env 7</span></span></span></pre>\n",
       "        </div>\n",
       "        <details>\n",
       "            <summary>Raw input</summary>\n",
       "            <code>{\"cmd\": \"#check thm1\", \"env\": 6}</code>\n",
       "        </details>\n",
       "        <details>\n",
       "            <summary>Raw output</summary>\n",
       "            <code>{\"messages\":\r\n",
       " [{\"severity\": \"info\",\r\n",
       "   \"pos\": {\"line\": 1, \"column\": 0},\r\n",
       "   \"endPos\": {\"line\": 1, \"column\": 6},\r\n",
       "   \"data\": \"thm1 : 1 = 1\"}],\r\n",
       " \"env\": 7}</code>\n",
       "        </details>\n",
       "    "
      ],
      "text/plain": [
       "#check thm1\n",
       "──────▶  thm1 : 1 = 1\n",
       "--% env 7\n",
       "\n",
       "Raw input:\n",
       "{\"cmd\": \"#check thm1\", \"env\": 6}\n",
       "Raw output:\n",
       "{\"messages\":\r\n",
       " [{\"severity\": \"info\",\r\n",
       "   \"pos\": {\"line\": 1, \"column\": 0},\r\n",
       "   \"endPos\": {\"line\": 1, \"column\": 6},\r\n",
       "   \"data\": \"thm1 : 1 = 1\"}],\r\n",
       " \"env\": 7}"
      ]
     },
     "metadata": {},
     "output_type": "display_data"
    }
   ],
   "source": [
    "#check thm1"
   ]
  },
  {
   "cell_type": "markdown",
   "id": "429106b1-5720-4a20-91d7-924ebdb02d68",
   "metadata": {
    "papermill": {
     "duration": 0.003102,
     "end_time": "2024-06-03T09:48:07.344558",
     "exception": false,
     "start_time": "2024-06-03T09:48:07.341456",
     "status": "completed"
    },
    "tags": []
   },
   "source": [
    "Begin with `%proof` will get you into tactic mode to proof the theorem immediately before. Note that you can actually enter `--%proof`, `% proof`, `%prove` or `%p`."
   ]
  },
  {
   "cell_type": "code",
   "execution_count": 9,
   "id": "b7c28110-26f3-4693-a96d-ebc1cda26a3b",
   "metadata": {
    "execution": {
     "iopub.execute_input": "2024-06-03T09:48:07.351820Z",
     "iopub.status.busy": "2024-06-03T09:48:07.351644Z",
     "iopub.status.idle": "2024-06-03T09:48:07.463059Z",
     "shell.execute_reply": "2024-06-03T09:48:07.462250Z"
    },
    "papermill": {
     "duration": 0.120794,
     "end_time": "2024-06-03T09:48:07.468493",
     "exception": false,
     "start_time": "2024-06-03T09:48:07.347699",
     "status": "completed"
    },
    "tags": []
   },
   "outputs": [
    {
     "data": {
      "text/html": [
       "\n",
       "        \n",
       "        <link rel=\"stylesheet\" href=\"https://lean-lang.org/lean4/doc/alectryon.css\">\n",
       "        <link rel=\"stylesheet\" href=\"https://lean-lang.org/lean4/doc/pygments.css\">\n",
       "        <script src=\"https://lean-lang.org/lean4/doc/alectryon.js\"></script>\n",
       "        <script src=\"https://lean-lang.org/lean4/doc/highlight.js\"></script>\n",
       "        <style>\n",
       "            @media (any-hover: hover) {\n",
       "                .alectryon-io .alectryon-sentence:hover .alectryon-output,\n",
       "                .alectryon-io .alectryon-token:hover .alectryon-type-info-wrapper,\n",
       "                .alectryon-io .alectryon-token:hover .alectryon-type-info-wrapper {\n",
       "                    position: unset;\n",
       "                }\n",
       "            }\n",
       "\n",
       "            .highlight .w, .code .w {\n",
       "                color: #d3d7cf;\n",
       "                text-decoration: none;\n",
       "            }\n",
       "\n",
       "            body[data-jp-theme-light=\"false\"] .alectryon-io .alectryon-goals,\n",
       "            body[data-jp-theme-light=\"false\"] .alectryon-io .alectryon-messages,\n",
       "            body[data-jp-theme-light=\"false\"] .alectryon-io .alectryon-goal,\n",
       "            body[data-jp-theme-light=\"false\"] .alectryon-io .alectryon-message {\n",
       "                background: black;\n",
       "            }\n",
       "        </style>\n",
       "    \n",
       "        <div class=\"alectryon-root alectryon-centered\">\n",
       "            <pre class=\"alectryon-io highlight\"><!-- Generator: Alectryon --><span class=\"alectryon-sentence\"><input class=\"alectryon-toggle\" id=\"chk6\" style=\"display: none\" type=\"checkbox\"><label class=\"alectryon-input\" for=\"chk6\"><span class=\"kn\">theorem</span><span class=\"w\"> </span>thm2<span class=\"w\"> </span>:<span class=\"w\"> </span><span class=\"mi\">2</span><span class=\"w\"> </span><span class=\"bp\">=</span><span class=\"w\"> </span><span class=\"mi\">2</span><span class=\"w\"> </span>:=<span class=\"w\"> </span><span class=\"gr\">sorry</span></label><small class=\"alectryon-output\"><div><div class=\"alectryon-messages\"><blockquote class=\"alectryon-message\"><span class=\"bp\">🟨</span><span class=\"w\"> </span>declaration<span class=\"w\"> </span>uses<span class=\"w\"> </span><span class=\"bp\">&#39;</span><span class=\"gr\">sorry</span><span class=\"bp\">&#39;</span></blockquote></div></div></small></span></pre>\n",
       "<pre class=\"alectryon-io highlight\"><!-- Generator: Alectryon --><span class=\"alectryon-sentence\"><span class=\"alectryon-input\"><span class=\"c1\">--% env 8</span></span></span></pre>\n",
       "<pre class=\"alectryon-io highlight\"><!-- Generator: Alectryon --><span class=\"alectryon-sentence\"><span class=\"alectryon-input\"><span class=\"c1\">--% prove 1</span></span></span></pre>\n",
       "        </div>\n",
       "        <details>\n",
       "            <summary>Raw input</summary>\n",
       "            <code>{\"cmd\": \"theorem thm2 : 2 = 2 := sorry\", \"env\": 7}</code>\n",
       "        </details>\n",
       "        <details>\n",
       "            <summary>Raw output</summary>\n",
       "            <code>{\"sorries\":\r\n",
       " [{\"proofState\": 1,\r\n",
       "   \"pos\": {\"line\": 1, \"column\": 24},\r\n",
       "   \"goal\": \"⊢ 2 = 2\",\r\n",
       "   \"endPos\": {\"line\": 1, \"column\": 29}}],\r\n",
       " \"messages\":\r\n",
       " [{\"severity\": \"warning\",\r\n",
       "   \"pos\": {\"line\": 1, \"column\": 8},\r\n",
       "   \"endPos\": {\"line\": 1, \"column\": 12},\r\n",
       "   \"data\": \"declaration uses 'sorry'\"}],\r\n",
       " \"env\": 8}</code>\n",
       "        </details>\n",
       "    "
      ],
      "text/plain": [
       "theorem thm2 : 2 = 2 := sorry\n",
       "        ────▶ 🟨 declaration uses 'sorry'\n",
       "--% env 8\n",
       "--% prove 1\n",
       "\n",
       "Raw input:\n",
       "{\"cmd\": \"theorem thm2 : 2 = 2 := sorry\", \"env\": 7}\n",
       "Raw output:\n",
       "{\"sorries\":\r\n",
       " [{\"proofState\": 1,\r\n",
       "   \"pos\": {\"line\": 1, \"column\": 24},\r\n",
       "   \"goal\": \"⊢ 2 = 2\",\r\n",
       "   \"endPos\": {\"line\": 1, \"column\": 29}}],\r\n",
       " \"messages\":\r\n",
       " [{\"severity\": \"warning\",\r\n",
       "   \"pos\": {\"line\": 1, \"column\": 8},\r\n",
       "   \"endPos\": {\"line\": 1, \"column\": 12},\r\n",
       "   \"data\": \"declaration uses 'sorry'\"}],\r\n",
       " \"env\": 8}"
      ]
     },
     "metadata": {},
     "output_type": "display_data"
    }
   ],
   "source": [
    "theorem thm2 : 2 = 2 := sorry"
   ]
  },
  {
   "cell_type": "code",
   "execution_count": 10,
   "id": "1a6549c4-7168-4ff7-b305-3f4f01b5f790",
   "metadata": {
    "execution": {
     "iopub.execute_input": "2024-06-03T09:48:07.480983Z",
     "iopub.status.busy": "2024-06-03T09:48:07.480434Z",
     "iopub.status.idle": "2024-06-03T09:48:07.591216Z",
     "shell.execute_reply": "2024-06-03T09:48:07.590760Z"
    },
    "papermill": {
     "duration": 0.119559,
     "end_time": "2024-06-03T09:48:07.592610",
     "exception": false,
     "start_time": "2024-06-03T09:48:07.473051",
     "status": "completed"
    },
    "tags": []
   },
   "outputs": [
    {
     "data": {
      "text/html": [
       "\n",
       "        \n",
       "        <link rel=\"stylesheet\" href=\"https://lean-lang.org/lean4/doc/alectryon.css\">\n",
       "        <link rel=\"stylesheet\" href=\"https://lean-lang.org/lean4/doc/pygments.css\">\n",
       "        <script src=\"https://lean-lang.org/lean4/doc/alectryon.js\"></script>\n",
       "        <script src=\"https://lean-lang.org/lean4/doc/highlight.js\"></script>\n",
       "        <style>\n",
       "            @media (any-hover: hover) {\n",
       "                .alectryon-io .alectryon-sentence:hover .alectryon-output,\n",
       "                .alectryon-io .alectryon-token:hover .alectryon-type-info-wrapper,\n",
       "                .alectryon-io .alectryon-token:hover .alectryon-type-info-wrapper {\n",
       "                    position: unset;\n",
       "                }\n",
       "            }\n",
       "\n",
       "            .highlight .w, .code .w {\n",
       "                color: #d3d7cf;\n",
       "                text-decoration: none;\n",
       "            }\n",
       "\n",
       "            body[data-jp-theme-light=\"false\"] .alectryon-io .alectryon-goals,\n",
       "            body[data-jp-theme-light=\"false\"] .alectryon-io .alectryon-messages,\n",
       "            body[data-jp-theme-light=\"false\"] .alectryon-io .alectryon-goal,\n",
       "            body[data-jp-theme-light=\"false\"] .alectryon-io .alectryon-message {\n",
       "                background: black;\n",
       "            }\n",
       "        </style>\n",
       "    \n",
       "        <div class=\"alectryon-root alectryon-centered\">\n",
       "            <pre class=\"alectryon-io highlight\"><!-- Generator: Alectryon --><span class=\"alectryon-sentence\"><span class=\"alectryon-input\"><span class=\"c1\">--% proof</span></span></span></pre>\n",
       "<pre class=\"alectryon-io highlight\"><!-- Generator: Alectryon --><span class=\"alectryon-sentence\"><input class=\"alectryon-toggle\" id=\"chk7\" style=\"display: none\" type=\"checkbox\"><label class=\"alectryon-input\" for=\"chk7\">rfl</label><small class=\"alectryon-output\"><div><div class=\"alectryon-messages\"><blockquote class=\"alectryon-message\"> Goals<span class=\"w\"> </span>accomplished!<span class=\"w\"> </span><span class=\"bp\">🐙</span></blockquote></div></div></small></span></pre>\n",
       "<pre class=\"alectryon-io highlight\"><!-- Generator: Alectryon --><span class=\"alectryon-sentence\"><span class=\"alectryon-input\"><span class=\"c1\">--% env 8</span></span></span></pre>\n",
       "<pre class=\"alectryon-io highlight\"><!-- Generator: Alectryon --><span class=\"alectryon-sentence\"><span class=\"alectryon-input\"><span class=\"c1\">--% prove 2</span></span></span></pre>\n",
       "        </div>\n",
       "        <details>\n",
       "            <summary>Raw input</summary>\n",
       "            <code>{\"tactic\": \"--% proof\\nrfl\", \"proofState\": 1}</code>\n",
       "        </details>\n",
       "        <details>\n",
       "            <summary>Raw output</summary>\n",
       "            <code>{\"proofState\": 2, \"goals\": []}</code>\n",
       "        </details>\n",
       "    "
      ],
      "text/plain": [
       "--% proof\n",
       "rfl\n",
       "▶  Goals accomplished! 🐙\n",
       "--% env 8\n",
       "--% prove 2\n",
       "\n",
       "Raw input:\n",
       "{\"tactic\": \"--% proof\\nrfl\", \"proofState\": 1}\n",
       "Raw output:\n",
       "{\"proofState\": 2, \"goals\": []}"
      ]
     },
     "metadata": {},
     "output_type": "display_data"
    }
   ],
   "source": [
    "% proof\n",
    "rfl"
   ]
  },
  {
   "cell_type": "markdown",
   "id": "5b08db96-2dcc-40da-be4a-4da60402d9b8",
   "metadata": {
    "papermill": {
     "duration": 0.003253,
     "end_time": "2024-06-03T09:48:07.599292",
     "exception": false,
     "start_time": "2024-06-03T09:48:07.596039",
     "status": "completed"
    },
    "tags": []
   },
   "source": [
    "Great!  Goals accomplished! 🐙 "
   ]
  },
  {
   "cell_type": "code",
   "execution_count": 11,
   "id": "49cbe475-21b3-4f48-b2f2-021e75cc48ac",
   "metadata": {
    "execution": {
     "iopub.execute_input": "2024-06-03T09:48:07.606756Z",
     "iopub.status.busy": "2024-06-03T09:48:07.606594Z",
     "iopub.status.idle": "2024-06-03T09:48:07.717432Z",
     "shell.execute_reply": "2024-06-03T09:48:07.716995Z"
    },
    "papermill": {
     "duration": 0.1163,
     "end_time": "2024-06-03T09:48:07.719009",
     "exception": false,
     "start_time": "2024-06-03T09:48:07.602709",
     "status": "completed"
    },
    "tags": []
   },
   "outputs": [
    {
     "data": {
      "text/html": [
       "\n",
       "        \n",
       "        <link rel=\"stylesheet\" href=\"https://lean-lang.org/lean4/doc/alectryon.css\">\n",
       "        <link rel=\"stylesheet\" href=\"https://lean-lang.org/lean4/doc/pygments.css\">\n",
       "        <script src=\"https://lean-lang.org/lean4/doc/alectryon.js\"></script>\n",
       "        <script src=\"https://lean-lang.org/lean4/doc/highlight.js\"></script>\n",
       "        <style>\n",
       "            @media (any-hover: hover) {\n",
       "                .alectryon-io .alectryon-sentence:hover .alectryon-output,\n",
       "                .alectryon-io .alectryon-token:hover .alectryon-type-info-wrapper,\n",
       "                .alectryon-io .alectryon-token:hover .alectryon-type-info-wrapper {\n",
       "                    position: unset;\n",
       "                }\n",
       "            }\n",
       "\n",
       "            .highlight .w, .code .w {\n",
       "                color: #d3d7cf;\n",
       "                text-decoration: none;\n",
       "            }\n",
       "\n",
       "            body[data-jp-theme-light=\"false\"] .alectryon-io .alectryon-goals,\n",
       "            body[data-jp-theme-light=\"false\"] .alectryon-io .alectryon-messages,\n",
       "            body[data-jp-theme-light=\"false\"] .alectryon-io .alectryon-goal,\n",
       "            body[data-jp-theme-light=\"false\"] .alectryon-io .alectryon-message {\n",
       "                background: black;\n",
       "            }\n",
       "        </style>\n",
       "    \n",
       "        <div class=\"alectryon-root alectryon-centered\">\n",
       "            <pre class=\"alectryon-io highlight\"><!-- Generator: Alectryon --><span class=\"alectryon-sentence\"><input class=\"alectryon-toggle\" id=\"chk8\" style=\"display: none\" type=\"checkbox\"><label class=\"alectryon-input\" for=\"chk8\"><span class=\"kn\">theorem</span><span class=\"w\"> </span>thm3<span class=\"w\"> </span>{x<span class=\"w\"> </span>y<span class=\"w\"> </span>:<span class=\"w\"> </span>Nat}<span class=\"w\"> </span>:<span class=\"w\"> </span>x<span class=\"w\"> </span><span class=\"bp\">+</span><span class=\"w\"> </span>y<span class=\"w\"> </span><span class=\"bp\">=</span><span class=\"w\"> </span>y<span class=\"w\"> </span><span class=\"bp\">+</span><span class=\"w\"> </span>x<span class=\"w\"> </span>:=<span class=\"w\"> </span><span class=\"gr\">sorry</span></label><small class=\"alectryon-output\"><div><div class=\"alectryon-messages\"><blockquote class=\"alectryon-message\"><span class=\"bp\">🟨</span><span class=\"w\"> </span>declaration<span class=\"w\"> </span>uses<span class=\"w\"> </span><span class=\"bp\">&#39;</span><span class=\"gr\">sorry</span><span class=\"bp\">&#39;</span></blockquote></div></div></small></span></pre>\n",
       "<pre class=\"alectryon-io highlight\"><!-- Generator: Alectryon --><span class=\"alectryon-sentence\"><span class=\"alectryon-input\"><span class=\"c1\">--% env 9</span></span></span></pre>\n",
       "<pre class=\"alectryon-io highlight\"><!-- Generator: Alectryon --><span class=\"alectryon-sentence\"><span class=\"alectryon-input\"><span class=\"c1\">--% prove 3</span></span></span></pre>\n",
       "        </div>\n",
       "        <details>\n",
       "            <summary>Raw input</summary>\n",
       "            <code>{\"cmd\": \"theorem thm3 {x y : Nat} : x + y = y + x := sorry\", \"env\": 8}</code>\n",
       "        </details>\n",
       "        <details>\n",
       "            <summary>Raw output</summary>\n",
       "            <code>{\"sorries\":\r\n",
       " [{\"proofState\": 3,\r\n",
       "   \"pos\": {\"line\": 1, \"column\": 44},\r\n",
       "   \"goal\": \"x y : Nat\\n⊢ x + y = y + x\",\r\n",
       "   \"endPos\": {\"line\": 1, \"column\": 49}}],\r\n",
       " \"messages\":\r\n",
       " [{\"severity\": \"warning\",\r\n",
       "   \"pos\": {\"line\": 1, \"column\": 8},\r\n",
       "   \"endPos\": {\"line\": 1, \"column\": 12},\r\n",
       "   \"data\": \"declaration uses 'sorry'\"}],\r\n",
       " \"env\": 9}</code>\n",
       "        </details>\n",
       "    "
      ],
      "text/plain": [
       "theorem thm3 {x y : Nat} : x + y = y + x := sorry\n",
       "        ────▶ 🟨 declaration uses 'sorry'\n",
       "--% env 9\n",
       "--% prove 3\n",
       "\n",
       "Raw input:\n",
       "{\"cmd\": \"theorem thm3 {x y : Nat} : x + y = y + x := sorry\", \"env\": 8}\n",
       "Raw output:\n",
       "{\"sorries\":\r\n",
       " [{\"proofState\": 3,\r\n",
       "   \"pos\": {\"line\": 1, \"column\": 44},\r\n",
       "   \"goal\": \"x y : Nat\\n⊢ x + y = y + x\",\r\n",
       "   \"endPos\": {\"line\": 1, \"column\": 49}}],\r\n",
       " \"messages\":\r\n",
       " [{\"severity\": \"warning\",\r\n",
       "   \"pos\": {\"line\": 1, \"column\": 8},\r\n",
       "   \"endPos\": {\"line\": 1, \"column\": 12},\r\n",
       "   \"data\": \"declaration uses 'sorry'\"}],\r\n",
       " \"env\": 9}"
      ]
     },
     "metadata": {},
     "output_type": "display_data"
    }
   ],
   "source": [
    "theorem thm3 {x y : Nat} : x + y = y + x := sorry"
   ]
  },
  {
   "cell_type": "markdown",
   "id": "47722d74-0b9f-4097-ab17-843a4c9203dc",
   "metadata": {
    "papermill": {
     "duration": 0.003371,
     "end_time": "2024-06-03T09:48:07.725995",
     "exception": false,
     "start_time": "2024-06-03T09:48:07.722624",
     "status": "completed"
    },
    "tags": []
   },
   "source": [
    "You can also backtrack to a proof state for the goal you want to prove like `--% prove 7`.  Note that you can actually enter just `%prove 3`, `%proof 3` or `%p3`."
   ]
  },
  {
   "cell_type": "code",
   "execution_count": 12,
   "id": "6da107c2-db34-4da7-80ce-cb89eae065a1",
   "metadata": {
    "execution": {
     "iopub.execute_input": "2024-06-03T09:48:07.734344Z",
     "iopub.status.busy": "2024-06-03T09:48:07.734176Z",
     "iopub.status.idle": "2024-06-03T09:48:07.848533Z",
     "shell.execute_reply": "2024-06-03T09:48:07.847754Z"
    },
    "papermill": {
     "duration": 0.121161,
     "end_time": "2024-06-03T09:48:07.850849",
     "exception": false,
     "start_time": "2024-06-03T09:48:07.729688",
     "status": "completed"
    },
    "tags": []
   },
   "outputs": [
    {
     "data": {
      "text/html": [
       "\n",
       "        \n",
       "        <link rel=\"stylesheet\" href=\"https://lean-lang.org/lean4/doc/alectryon.css\">\n",
       "        <link rel=\"stylesheet\" href=\"https://lean-lang.org/lean4/doc/pygments.css\">\n",
       "        <script src=\"https://lean-lang.org/lean4/doc/alectryon.js\"></script>\n",
       "        <script src=\"https://lean-lang.org/lean4/doc/highlight.js\"></script>\n",
       "        <style>\n",
       "            @media (any-hover: hover) {\n",
       "                .alectryon-io .alectryon-sentence:hover .alectryon-output,\n",
       "                .alectryon-io .alectryon-token:hover .alectryon-type-info-wrapper,\n",
       "                .alectryon-io .alectryon-token:hover .alectryon-type-info-wrapper {\n",
       "                    position: unset;\n",
       "                }\n",
       "            }\n",
       "\n",
       "            .highlight .w, .code .w {\n",
       "                color: #d3d7cf;\n",
       "                text-decoration: none;\n",
       "            }\n",
       "\n",
       "            body[data-jp-theme-light=\"false\"] .alectryon-io .alectryon-goals,\n",
       "            body[data-jp-theme-light=\"false\"] .alectryon-io .alectryon-messages,\n",
       "            body[data-jp-theme-light=\"false\"] .alectryon-io .alectryon-goal,\n",
       "            body[data-jp-theme-light=\"false\"] .alectryon-io .alectryon-message {\n",
       "                background: black;\n",
       "            }\n",
       "        </style>\n",
       "    \n",
       "        <div class=\"alectryon-root alectryon-centered\">\n",
       "            <pre class=\"alectryon-io highlight\"><!-- Generator: Alectryon --><span class=\"alectryon-sentence\"><span class=\"alectryon-input\"><span class=\"c1\">--% prove 3</span></span></span></pre>\n",
       "<pre class=\"alectryon-io highlight\"><!-- Generator: Alectryon --><span class=\"alectryon-sentence\"><input class=\"alectryon-toggle\" id=\"chk9\" style=\"display: none\" type=\"checkbox\"><label class=\"alectryon-input\" for=\"chk9\">rfl</label><small class=\"alectryon-output\"><div><div class=\"alectryon-messages\"><blockquote class=\"alectryon-message\"><span class=\"bp\">❌</span><span class=\"w\"> </span>Lean<span class=\"w\"> </span>error:\n",
       "The<span class=\"w\"> </span>rfl<span class=\"w\"> </span>tactic<span class=\"w\"> </span>failed<span class=\"bp\">.</span><span class=\"w\"> </span>Possible<span class=\"w\"> </span>reasons:\n",
       "<span class=\"bp\">-</span><span class=\"w\"> </span>The<span class=\"w\"> </span>goal<span class=\"w\"> </span>is<span class=\"w\"> </span>not<span class=\"w\"> </span>a<span class=\"w\"> </span>reflexive<span class=\"w\"> </span>relation<span class=\"w\"> </span>(neither<span class=\"w\"> </span><span class=\"bp\">`=`</span><span class=\"w\"> </span>nor<span class=\"w\"> </span>a<span class=\"w\"> </span>relation<span class=\"w\"> </span><span class=\"k\">with</span><span class=\"w\"> </span>a<span class=\"w\"> </span><span class=\"kd\">@[</span>refl<span class=\"kd\">]</span><span class=\"w\"> </span><span class=\"kn\">lemma</span>)<span class=\"bp\">.</span>\n",
       "<span class=\"bp\">-</span><span class=\"w\"> </span>The<span class=\"w\"> </span>arguments<span class=\"w\"> </span>of<span class=\"w\"> </span>the<span class=\"w\"> </span>relation<span class=\"w\"> </span>are<span class=\"w\"> </span>not<span class=\"w\"> </span>equal<span class=\"bp\">.</span>\n",
       "Try<span class=\"w\"> </span><span class=\"kn\">using</span><span class=\"w\"> </span>the<span class=\"w\"> </span>reflexivitiy<span class=\"w\"> </span><span class=\"kn\">lemma</span><span class=\"w\"> </span>for<span class=\"w\"> </span>your<span class=\"w\"> </span>relation<span class=\"w\"> </span>explicitly,<span class=\"w\"> </span>e<span class=\"bp\">.</span>g<span class=\"bp\">.</span><span class=\"w\"> </span><span class=\"ss\">`exact</span><span class=\"w\"> </span>Eq<span class=\"bp\">.</span>rfl<span class=\"bp\">`.</span>\n",
       "x<span class=\"w\"> </span>y<span class=\"w\"> </span>:<span class=\"w\"> </span>Nat\n",
       "<span class=\"bp\">⊢</span><span class=\"w\"> </span>x<span class=\"w\"> </span><span class=\"bp\">+</span><span class=\"w\"> </span>y<span class=\"w\"> </span><span class=\"bp\">=</span><span class=\"w\"> </span>y<span class=\"w\"> </span><span class=\"bp\">+</span><span class=\"w\"> </span>x</blockquote></div></div></small></span></pre>\n",
       "<pre class=\"alectryon-io highlight\"><!-- Generator: Alectryon --><span class=\"alectryon-sentence\"><span class=\"alectryon-input\"><span class=\"c1\">--% env 9</span></span></span></pre>\n",
       "        </div>\n",
       "        <details>\n",
       "            <summary>Raw input</summary>\n",
       "            <code>{\"tactic\": \"--% prove 3\\nrfl\", \"proofState\": 3}</code>\n",
       "        </details>\n",
       "        <details>\n",
       "            <summary>Raw output</summary>\n",
       "            <code>{\"message\":\r\n",
       " \"Lean error:\\nThe rfl tactic failed. Possible reasons:\\n- The goal is not a reflexive relation (neither `=` nor a relation with a @[refl] lemma).\\n- The arguments of the relation are not equal.\\nTry using the reflexivitiy lemma for your relation explicitly, e.g. `exact Eq.rfl`.\\nx y : Nat\\n⊢ x + y = y + x\"}</code>\n",
       "        </details>\n",
       "    "
      ],
      "text/plain": [
       "--% prove 3\n",
       "rfl\n",
       "▶ ❌ Lean error:\n",
       "The rfl tactic failed. Possible reasons:\n",
       "- The goal is not a reflexive relation (neither `=` nor a relation with a @[refl] lemma).\n",
       "- The arguments of the relation are not equal.\n",
       "Try using the reflexivitiy lemma for your relation explicitly, e.g. `exact Eq.rfl`.\n",
       "x y : Nat\n",
       "⊢ x + y = y + x\n",
       "--% env 9\n",
       "\n",
       "Raw input:\n",
       "{\"tactic\": \"--% prove 3\\nrfl\", \"proofState\": 3}\n",
       "Raw output:\n",
       "{\"message\":\r\n",
       " \"Lean error:\\nThe rfl tactic failed. Possible reasons:\\n- The goal is not a reflexive relation (neither `=` nor a relation with a @[refl] lemma).\\n- The arguments of the relation are not equal.\\nTry using the reflexivitiy lemma for your relation explicitly, e.g. `exact Eq.rfl`.\\nx y : Nat\\n⊢ x + y = y + x\"}"
      ]
     },
     "metadata": {},
     "output_type": "display_data"
    }
   ],
   "source": [
    "% prove 3\n",
    "rfl"
   ]
  },
  {
   "cell_type": "markdown",
   "id": "4496ec11-dba0-4c57-be89-8384f3042c49",
   "metadata": {
    "papermill": {
     "duration": 0.003959,
     "end_time": "2024-06-03T09:48:07.858630",
     "exception": false,
     "start_time": "2024-06-03T09:48:07.854671",
     "status": "completed"
    },
    "tags": []
   },
   "source": [
    "OK, `rfl` is not enough, let's try some hint:"
   ]
  },
  {
   "cell_type": "code",
   "execution_count": 13,
   "id": "812a098f-1ce3-44d4-8013-f1542e377fb8",
   "metadata": {
    "execution": {
     "iopub.execute_input": "2024-06-03T09:48:07.867144Z",
     "iopub.status.busy": "2024-06-03T09:48:07.866825Z",
     "iopub.status.idle": "2024-06-03T09:48:08.051378Z",
     "shell.execute_reply": "2024-06-03T09:48:08.050938Z"
    },
    "papermill": {
     "duration": 0.190373,
     "end_time": "2024-06-03T09:48:08.052835",
     "exception": false,
     "start_time": "2024-06-03T09:48:07.862462",
     "status": "completed"
    },
    "tags": []
   },
   "outputs": [
    {
     "data": {
      "text/html": [
       "\n",
       "        \n",
       "        <link rel=\"stylesheet\" href=\"https://lean-lang.org/lean4/doc/alectryon.css\">\n",
       "        <link rel=\"stylesheet\" href=\"https://lean-lang.org/lean4/doc/pygments.css\">\n",
       "        <script src=\"https://lean-lang.org/lean4/doc/alectryon.js\"></script>\n",
       "        <script src=\"https://lean-lang.org/lean4/doc/highlight.js\"></script>\n",
       "        <style>\n",
       "            @media (any-hover: hover) {\n",
       "                .alectryon-io .alectryon-sentence:hover .alectryon-output,\n",
       "                .alectryon-io .alectryon-token:hover .alectryon-type-info-wrapper,\n",
       "                .alectryon-io .alectryon-token:hover .alectryon-type-info-wrapper {\n",
       "                    position: unset;\n",
       "                }\n",
       "            }\n",
       "\n",
       "            .highlight .w, .code .w {\n",
       "                color: #d3d7cf;\n",
       "                text-decoration: none;\n",
       "            }\n",
       "\n",
       "            body[data-jp-theme-light=\"false\"] .alectryon-io .alectryon-goals,\n",
       "            body[data-jp-theme-light=\"false\"] .alectryon-io .alectryon-messages,\n",
       "            body[data-jp-theme-light=\"false\"] .alectryon-io .alectryon-goal,\n",
       "            body[data-jp-theme-light=\"false\"] .alectryon-io .alectryon-message {\n",
       "                background: black;\n",
       "            }\n",
       "        </style>\n",
       "    \n",
       "        <div class=\"alectryon-root alectryon-centered\">\n",
       "            <pre class=\"alectryon-io highlight\"><!-- Generator: Alectryon --><span class=\"alectryon-sentence\"><span class=\"alectryon-input\"><span class=\"c1\">--% prove 3</span></span></span></pre>\n",
       "<pre class=\"alectryon-io highlight\"><!-- Generator: Alectryon --><span class=\"alectryon-sentence\"><input class=\"alectryon-toggle\" id=\"chka\" style=\"display: none\" type=\"checkbox\"><label class=\"alectryon-input\" for=\"chka\">exact?</label><small class=\"alectryon-output\"><div><div class=\"alectryon-messages\"><blockquote class=\"alectryon-message\"> Try<span class=\"w\"> </span>this:<span class=\"w\"> </span>exact<span class=\"w\"> </span>Nat<span class=\"bp\">.</span>add_comm<span class=\"w\"> </span>x<span class=\"w\"> </span>y</blockquote><blockquote class=\"alectryon-message\"> Goals<span class=\"w\"> </span>accomplished!<span class=\"w\"> </span><span class=\"bp\">🐙</span></blockquote></div></div></small></span></pre>\n",
       "<pre class=\"alectryon-io highlight\"><!-- Generator: Alectryon --><span class=\"alectryon-sentence\"><span class=\"alectryon-input\"><span class=\"c1\">--% env 9</span></span></span></pre>\n",
       "<pre class=\"alectryon-io highlight\"><!-- Generator: Alectryon --><span class=\"alectryon-sentence\"><span class=\"alectryon-input\"><span class=\"c1\">--% prove 4</span></span></span></pre>\n",
       "        </div>\n",
       "        <details>\n",
       "            <summary>Raw input</summary>\n",
       "            <code>{\"tactic\": \"--% prove 3\\nexact?\", \"proofState\": 3}</code>\n",
       "        </details>\n",
       "        <details>\n",
       "            <summary>Raw output</summary>\n",
       "            <code>{\"proofState\": 4,\r\n",
       " \"messages\":\r\n",
       " [{\"severity\": \"info\",\r\n",
       "   \"pos\": {\"line\": 0, \"column\": 0},\r\n",
       "   \"endPos\": {\"line\": 0, \"column\": 0},\r\n",
       "   \"data\": \"Try this: exact Nat.add_comm x y\"}],\r\n",
       " \"goals\": []}</code>\n",
       "        </details>\n",
       "    "
      ],
      "text/plain": [
       "--% prove 3\n",
       "exact?\n",
       "▶  Try this: exact Nat.add_comm x y\n",
       "▶  Goals accomplished! 🐙\n",
       "--% env 9\n",
       "--% prove 4\n",
       "\n",
       "Raw input:\n",
       "{\"tactic\": \"--% prove 3\\nexact?\", \"proofState\": 3}\n",
       "Raw output:\n",
       "{\"proofState\": 4,\r\n",
       " \"messages\":\r\n",
       " [{\"severity\": \"info\",\r\n",
       "   \"pos\": {\"line\": 0, \"column\": 0},\r\n",
       "   \"endPos\": {\"line\": 0, \"column\": 0},\r\n",
       "   \"data\": \"Try this: exact Nat.add_comm x y\"}],\r\n",
       " \"goals\": []}"
      ]
     },
     "metadata": {},
     "output_type": "display_data"
    }
   ],
   "source": [
    "% prove 3\n",
    "exact?"
   ]
  },
  {
   "cell_type": "markdown",
   "id": "8c7a9b17-c13b-49ab-90ae-1ad31162afe1",
   "metadata": {
    "papermill": {
     "duration": 0.003582,
     "end_time": "2024-06-03T09:48:08.060126",
     "exception": false,
     "start_time": "2024-06-03T09:48:08.056544",
     "status": "completed"
    },
    "tags": []
   },
   "source": [
    "Let's use the hint:"
   ]
  },
  {
   "cell_type": "code",
   "execution_count": 14,
   "id": "7de78d37-432a-42d1-a964-2f6ae0d33ff7",
   "metadata": {
    "execution": {
     "iopub.execute_input": "2024-06-03T09:48:08.068283Z",
     "iopub.status.busy": "2024-06-03T09:48:08.068142Z",
     "iopub.status.idle": "2024-06-03T09:48:08.181135Z",
     "shell.execute_reply": "2024-06-03T09:48:08.180736Z"
    },
    "papermill": {
     "duration": 0.118549,
     "end_time": "2024-06-03T09:48:08.182417",
     "exception": false,
     "start_time": "2024-06-03T09:48:08.063868",
     "status": "completed"
    },
    "tags": []
   },
   "outputs": [
    {
     "data": {
      "text/html": [
       "\n",
       "        \n",
       "        <link rel=\"stylesheet\" href=\"https://lean-lang.org/lean4/doc/alectryon.css\">\n",
       "        <link rel=\"stylesheet\" href=\"https://lean-lang.org/lean4/doc/pygments.css\">\n",
       "        <script src=\"https://lean-lang.org/lean4/doc/alectryon.js\"></script>\n",
       "        <script src=\"https://lean-lang.org/lean4/doc/highlight.js\"></script>\n",
       "        <style>\n",
       "            @media (any-hover: hover) {\n",
       "                .alectryon-io .alectryon-sentence:hover .alectryon-output,\n",
       "                .alectryon-io .alectryon-token:hover .alectryon-type-info-wrapper,\n",
       "                .alectryon-io .alectryon-token:hover .alectryon-type-info-wrapper {\n",
       "                    position: unset;\n",
       "                }\n",
       "            }\n",
       "\n",
       "            .highlight .w, .code .w {\n",
       "                color: #d3d7cf;\n",
       "                text-decoration: none;\n",
       "            }\n",
       "\n",
       "            body[data-jp-theme-light=\"false\"] .alectryon-io .alectryon-goals,\n",
       "            body[data-jp-theme-light=\"false\"] .alectryon-io .alectryon-messages,\n",
       "            body[data-jp-theme-light=\"false\"] .alectryon-io .alectryon-goal,\n",
       "            body[data-jp-theme-light=\"false\"] .alectryon-io .alectryon-message {\n",
       "                background: black;\n",
       "            }\n",
       "        </style>\n",
       "    \n",
       "        <div class=\"alectryon-root alectryon-centered\">\n",
       "            <pre class=\"alectryon-io highlight\"><!-- Generator: Alectryon --><span class=\"alectryon-sentence\"><span class=\"alectryon-input\"><span class=\"c1\">--% prove 3</span></span></span></pre>\n",
       "<pre class=\"alectryon-io highlight\"><!-- Generator: Alectryon --><span class=\"alectryon-sentence\"><input class=\"alectryon-toggle\" id=\"chkb\" style=\"display: none\" type=\"checkbox\"><label class=\"alectryon-input\" for=\"chkb\">exact<span class=\"w\"> </span>Nat<span class=\"bp\">.</span>add_comm<span class=\"w\"> </span>x<span class=\"w\"> </span>y</label><small class=\"alectryon-output\"><div><div class=\"alectryon-messages\"><blockquote class=\"alectryon-message\"> Goals<span class=\"w\"> </span>accomplished!<span class=\"w\"> </span><span class=\"bp\">🐙</span></blockquote></div></div></small></span></pre>\n",
       "<pre class=\"alectryon-io highlight\"><!-- Generator: Alectryon --><span class=\"alectryon-sentence\"><span class=\"alectryon-input\"><span class=\"c1\">--% env 9</span></span></span></pre>\n",
       "<pre class=\"alectryon-io highlight\"><!-- Generator: Alectryon --><span class=\"alectryon-sentence\"><span class=\"alectryon-input\"><span class=\"c1\">--% prove 5</span></span></span></pre>\n",
       "        </div>\n",
       "        <details>\n",
       "            <summary>Raw input</summary>\n",
       "            <code>{\"tactic\": \"--% prove 3\\nexact Nat.add_comm x y\", \"proofState\": 3}</code>\n",
       "        </details>\n",
       "        <details>\n",
       "            <summary>Raw output</summary>\n",
       "            <code>{\"proofState\": 5, \"goals\": []}</code>\n",
       "        </details>\n",
       "    "
      ],
      "text/plain": [
       "--% prove 3\n",
       "exact Nat.add_comm x y\n",
       "▶  Goals accomplished! 🐙\n",
       "--% env 9\n",
       "--% prove 5\n",
       "\n",
       "Raw input:\n",
       "{\"tactic\": \"--% prove 3\\nexact Nat.add_comm x y\", \"proofState\": 3}\n",
       "Raw output:\n",
       "{\"proofState\": 5, \"goals\": []}"
      ]
     },
     "metadata": {},
     "output_type": "display_data"
    }
   ],
   "source": [
    "% prove 3\n",
    "exact Nat.add_comm x y"
   ]
  },
  {
   "cell_type": "markdown",
   "id": "6b18cb57-fe95-4fd3-9909-e33261ecc7a4",
   "metadata": {
    "papermill": {
     "duration": 0.003511,
     "end_time": "2024-06-03T09:48:08.189783",
     "exception": false,
     "start_time": "2024-06-03T09:48:08.186272",
     "status": "completed"
    },
    "tags": []
   },
   "source": [
    "Voilà! That's what we have so far.\n",
    "\n",
    "Next, you might want to check out [`examples/03_import.ipynb`](https://nbviewer.org/github/utensil/lean4_jupyter/blob/main/examples/03_import.ipynb?flush_cache=true) for use Lean 4 Jupyter kernel in a project."
   ]
  }
 ],
 "metadata": {
  "kernelspec": {
   "display_name": "Lean 4",
   "language": "lean4",
   "name": "lean4"
  },
  "language_info": {
   "codemirror_mode": "python",
   "file_extension": ".lean",
   "mimetype": "text/x-lean4",
   "name": "lean4"
  },
  "papermill": {
   "default_parameters": {},
   "duration": 6.333933,
   "end_time": "2024-06-03T09:48:11.218183",
   "environment_variables": {},
   "exception": null,
   "parameters": {},
   "start_time": "2024-06-03T09:48:04.884250",
   "version": "2.6.0"
  }
 },
 "nbformat": 4,
 "nbformat_minor": 5
}