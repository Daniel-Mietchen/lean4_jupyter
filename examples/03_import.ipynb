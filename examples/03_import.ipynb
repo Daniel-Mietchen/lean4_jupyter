{
 "cells": [
  {
   "cell_type": "markdown",
   "id": "caa3aac4-74b5-43d3-8c47-c5f38a9e0699",
   "metadata": {
    "papermill": {
     "duration": 0.002293,
     "end_time": "2024-06-03T09:48:38.378107",
     "exception": false,
     "start_time": "2024-06-03T09:48:38.375814",
     "status": "completed"
    },
    "tags": []
   },
   "source": [
    "# Lean 4 Jupyter Notebook Demo for importing from projects"
   ]
  },
  {
   "cell_type": "markdown",
   "id": "2a5612bb-d4d3-486a-a47d-0d206f03fbbb",
   "metadata": {
    "papermill": {
     "duration": 0.001922,
     "end_time": "2024-06-03T09:48:38.383051",
     "exception": false,
     "start_time": "2024-06-03T09:48:38.381129",
     "status": "completed"
    },
    "tags": []
   },
   "source": [
    "This notebook demonstrates importing pacakges from projects and their dependencies.\n",
    "\n",
    "## Prepare the demo project before running this notebook\n",
    "\n",
    "`demo_proj` is created with `lake +leanprover-community/mathlib4:lean-toolchain new demo_proj math`, modified only the following in `lakefile.lean`, added `import Mathlib` in `DemoProj/Basic.lean`, then initialized with `lake exe cache get && lake build`.\n",
    "\n",
    "```\n",
    "def leanVersion : String := s!\"v{Lean.versionString}\"\n",
    "\n",
    "require mathlib from git\n",
    "  \"https://github.com/leanprover-community/mathlib4\" @ leanVersion\n",
    "```\n",
    "\n",
    "You need to run `lake build` to ensure it builds before using this notebook.\n",
    "\n",
    "## Running a notebook\n",
    "\n",
    "Use magic `%cd` to change the current working directory to the root of the project, then Lean 4 will pick up the proper Lean toolchain and set up required packages. You may use the following Lean code to confirm the current working directory:\n",
    "\n",
    "```\n",
    "#eval do\n",
    "  return (← IO.currentDir)\n",
    "```\n",
    "\n",
    "The following will take a while to load as it also imports `Mathlib` which is huge."
   ]
  },
  {
   "cell_type": "code",
   "execution_count": 1,
   "id": "8380b3ba-0f60-4e22-9a17-d370f18474c1",
   "metadata": {
    "execution": {
     "iopub.execute_input": "2024-06-03T09:48:38.389183Z",
     "iopub.status.busy": "2024-06-03T09:48:38.388977Z",
     "iopub.status.idle": "2024-06-03T09:48:51.219259Z",
     "shell.execute_reply": "2024-06-03T09:48:51.218394Z"
    },
    "papermill": {
     "duration": 12.836558,
     "end_time": "2024-06-03T09:48:51.221718",
     "exception": false,
     "start_time": "2024-06-03T09:48:38.385160",
     "status": "completed"
    },
    "tags": []
   },
   "outputs": [
    {
     "data": {
      "text/html": [
       "\n",
       "        \n",
       "        <link rel=\"stylesheet\" href=\"https://lean-lang.org/lean4/doc/alectryon.css\">\n",
       "        <link rel=\"stylesheet\" href=\"https://lean-lang.org/lean4/doc/pygments.css\">\n",
       "        <script src=\"https://lean-lang.org/lean4/doc/alectryon.js\"></script>\n",
       "        <script src=\"https://lean-lang.org/lean4/doc/highlight.js\"></script>\n",
       "        <style>\n",
       "            @media (any-hover: hover) {\n",
       "                .alectryon-io .alectryon-sentence:hover .alectryon-output,\n",
       "                .alectryon-io .alectryon-token:hover .alectryon-type-info-wrapper,\n",
       "                .alectryon-io .alectryon-token:hover .alectryon-type-info-wrapper {\n",
       "                    position: unset;\n",
       "                }\n",
       "            }\n",
       "\n",
       "            .highlight .w, .code .w {\n",
       "                color: #d3d7cf;\n",
       "                text-decoration: none;\n",
       "            }\n",
       "\n",
       "            body[data-jp-theme-light=\"false\"] .alectryon-io .alectryon-goals,\n",
       "            body[data-jp-theme-light=\"false\"] .alectryon-io .alectryon-messages,\n",
       "            body[data-jp-theme-light=\"false\"] .alectryon-io .alectryon-goal,\n",
       "            body[data-jp-theme-light=\"false\"] .alectryon-io .alectryon-message {\n",
       "                background: black;\n",
       "            }\n",
       "        </style>\n",
       "    \n",
       "        <div class=\"alectryon-root alectryon-centered\">\n",
       "            <pre class=\"alectryon-io highlight\"><!-- Generator: Alectryon --><span class=\"alectryon-sentence\"><span class=\"alectryon-input\"><span class=\"c1\">--%cd demo_proj</span></span></span></pre>\n",
       "<pre class=\"alectryon-io highlight\"><!-- Generator: Alectryon --><span class=\"alectryon-sentence\"><span class=\"alectryon-input\"><span class=\"kn\">import</span><span class=\"w\"> </span><span class=\"bp\">«</span>DemoProj<span class=\"bp\">»</span></span></span></pre>\n",
       "<pre class=\"alectryon-io highlight\"><!-- Generator: Alectryon --><span class=\"alectryon-sentence\"><span class=\"alectryon-input\"><span class=\"c1\">--% env 0</span></span></span></pre>\n",
       "        </div>\n",
       "        <details>\n",
       "            <summary>Raw input</summary>\n",
       "            <code>{\"cmd\": \"--%cd demo_proj\\nimport \\u00abDemoProj\\u00bb\"}</code>\n",
       "        </details>\n",
       "        <details>\n",
       "            <summary>Raw output</summary>\n",
       "            <code>{\"env\": 0}</code>\n",
       "        </details>\n",
       "    "
      ],
      "text/plain": [
       "--%cd demo_proj\n",
       "import «DemoProj»\n",
       "--% env 0\n",
       "\n",
       "Raw input:\n",
       "{\"cmd\": \"--%cd demo_proj\\nimport \\u00abDemoProj\\u00bb\"}\n",
       "Raw output:\n",
       "{\"env\": 0}"
      ]
     },
     "metadata": {},
     "output_type": "display_data"
    }
   ],
   "source": [
    "%cd demo_proj\n",
    "import «DemoProj»"
   ]
  },
  {
   "cell_type": "markdown",
   "id": "62bf4df4-ad5b-446d-9987-2c7157a3c786",
   "metadata": {
    "papermill": {
     "duration": 0.001903,
     "end_time": "2024-06-03T09:48:51.226647",
     "exception": false,
     "start_time": "2024-06-03T09:48:51.224744",
     "status": "completed"
    },
    "tags": []
   },
   "source": [
    "You may confirm that you are on the right toolchain:"
   ]
  },
  {
   "cell_type": "code",
   "execution_count": 2,
   "id": "acaab9f8-782b-4190-b523-0e217e066ae5",
   "metadata": {
    "execution": {
     "iopub.execute_input": "2024-06-03T09:48:51.232494Z",
     "iopub.status.busy": "2024-06-03T09:48:51.232301Z",
     "iopub.status.idle": "2024-06-03T09:48:51.353751Z",
     "shell.execute_reply": "2024-06-03T09:48:51.352814Z"
    },
    "papermill": {
     "duration": 0.127323,
     "end_time": "2024-06-03T09:48:51.356011",
     "exception": false,
     "start_time": "2024-06-03T09:48:51.228688",
     "status": "completed"
    },
    "tags": []
   },
   "outputs": [
    {
     "data": {
      "text/html": [
       "\n",
       "        \n",
       "        <link rel=\"stylesheet\" href=\"https://lean-lang.org/lean4/doc/alectryon.css\">\n",
       "        <link rel=\"stylesheet\" href=\"https://lean-lang.org/lean4/doc/pygments.css\">\n",
       "        <script src=\"https://lean-lang.org/lean4/doc/alectryon.js\"></script>\n",
       "        <script src=\"https://lean-lang.org/lean4/doc/highlight.js\"></script>\n",
       "        <style>\n",
       "            @media (any-hover: hover) {\n",
       "                .alectryon-io .alectryon-sentence:hover .alectryon-output,\n",
       "                .alectryon-io .alectryon-token:hover .alectryon-type-info-wrapper,\n",
       "                .alectryon-io .alectryon-token:hover .alectryon-type-info-wrapper {\n",
       "                    position: unset;\n",
       "                }\n",
       "            }\n",
       "\n",
       "            .highlight .w, .code .w {\n",
       "                color: #d3d7cf;\n",
       "                text-decoration: none;\n",
       "            }\n",
       "\n",
       "            body[data-jp-theme-light=\"false\"] .alectryon-io .alectryon-goals,\n",
       "            body[data-jp-theme-light=\"false\"] .alectryon-io .alectryon-messages,\n",
       "            body[data-jp-theme-light=\"false\"] .alectryon-io .alectryon-goal,\n",
       "            body[data-jp-theme-light=\"false\"] .alectryon-io .alectryon-message {\n",
       "                background: black;\n",
       "            }\n",
       "        </style>\n",
       "    \n",
       "        <div class=\"alectryon-root alectryon-centered\">\n",
       "            <pre class=\"alectryon-io highlight\"><!-- Generator: Alectryon --><span class=\"alectryon-sentence\"><input class=\"alectryon-toggle\" id=\"chk0\" style=\"display: none\" type=\"checkbox\"><label class=\"alectryon-input\" for=\"chk0\"><span class=\"bp\">#</span>eval<span class=\"w\"> </span>Lean<span class=\"bp\">.</span>versionString</label><small class=\"alectryon-output\"><div><div class=\"alectryon-messages\"><blockquote class=\"alectryon-message\"> <span class=\"s2\">&quot;4.8.0-rc1&quot;</span></blockquote></div></div></small></span></pre>\n",
       "<pre class=\"alectryon-io highlight\"><!-- Generator: Alectryon --><span class=\"alectryon-sentence\"><span class=\"alectryon-input\"><span class=\"c1\">--% env 1</span></span></span></pre>\n",
       "        </div>\n",
       "        <details>\n",
       "            <summary>Raw input</summary>\n",
       "            <code>{\"cmd\": \"#eval Lean.versionString\", \"env\": 0}</code>\n",
       "        </details>\n",
       "        <details>\n",
       "            <summary>Raw output</summary>\n",
       "            <code>{\"messages\":\r\n",
       " [{\"severity\": \"info\",\r\n",
       "   \"pos\": {\"line\": 1, \"column\": 0},\r\n",
       "   \"endPos\": {\"line\": 1, \"column\": 5},\r\n",
       "   \"data\": \"\\\"4.8.0-rc1\\\"\"}],\r\n",
       " \"env\": 1}</code>\n",
       "        </details>\n",
       "    "
      ],
      "text/plain": [
       "#eval Lean.versionString\n",
       "─────▶  \"4.8.0-rc1\"\n",
       "--% env 1\n",
       "\n",
       "Raw input:\n",
       "{\"cmd\": \"#eval Lean.versionString\", \"env\": 0}\n",
       "Raw output:\n",
       "{\"messages\":\r\n",
       " [{\"severity\": \"info\",\r\n",
       "   \"pos\": {\"line\": 1, \"column\": 0},\r\n",
       "   \"endPos\": {\"line\": 1, \"column\": 5},\r\n",
       "   \"data\": \"\\\"4.8.0-rc1\\\"\"}],\r\n",
       " \"env\": 1}"
      ]
     },
     "metadata": {},
     "output_type": "display_data"
    }
   ],
   "source": [
    "#eval Lean.versionString"
   ]
  },
  {
   "cell_type": "markdown",
   "id": "bc5dd0ac-5bd1-44d7-b3ea-beb9902d2f41",
   "metadata": {
    "papermill": {
     "duration": 0.003136,
     "end_time": "2024-06-03T09:48:51.362861",
     "exception": false,
     "start_time": "2024-06-03T09:48:51.359725",
     "status": "completed"
    },
    "tags": []
   },
   "source": [
    "And you can see `hello` from `DemoProj` has been successfully imported:"
   ]
  },
  {
   "cell_type": "code",
   "execution_count": 3,
   "id": "7482de58-469b-420c-bfce-c7d6a0474a53",
   "metadata": {
    "execution": {
     "iopub.execute_input": "2024-06-03T09:48:51.369014Z",
     "iopub.status.busy": "2024-06-03T09:48:51.368796Z",
     "iopub.status.idle": "2024-06-03T09:48:51.486545Z",
     "shell.execute_reply": "2024-06-03T09:48:51.485752Z"
    },
    "papermill": {
     "duration": 0.122961,
     "end_time": "2024-06-03T09:48:51.488141",
     "exception": false,
     "start_time": "2024-06-03T09:48:51.365180",
     "status": "completed"
    },
    "tags": []
   },
   "outputs": [
    {
     "data": {
      "text/html": [
       "\n",
       "        \n",
       "        <link rel=\"stylesheet\" href=\"https://lean-lang.org/lean4/doc/alectryon.css\">\n",
       "        <link rel=\"stylesheet\" href=\"https://lean-lang.org/lean4/doc/pygments.css\">\n",
       "        <script src=\"https://lean-lang.org/lean4/doc/alectryon.js\"></script>\n",
       "        <script src=\"https://lean-lang.org/lean4/doc/highlight.js\"></script>\n",
       "        <style>\n",
       "            @media (any-hover: hover) {\n",
       "                .alectryon-io .alectryon-sentence:hover .alectryon-output,\n",
       "                .alectryon-io .alectryon-token:hover .alectryon-type-info-wrapper,\n",
       "                .alectryon-io .alectryon-token:hover .alectryon-type-info-wrapper {\n",
       "                    position: unset;\n",
       "                }\n",
       "            }\n",
       "\n",
       "            .highlight .w, .code .w {\n",
       "                color: #d3d7cf;\n",
       "                text-decoration: none;\n",
       "            }\n",
       "\n",
       "            body[data-jp-theme-light=\"false\"] .alectryon-io .alectryon-goals,\n",
       "            body[data-jp-theme-light=\"false\"] .alectryon-io .alectryon-messages,\n",
       "            body[data-jp-theme-light=\"false\"] .alectryon-io .alectryon-goal,\n",
       "            body[data-jp-theme-light=\"false\"] .alectryon-io .alectryon-message {\n",
       "                background: black;\n",
       "            }\n",
       "        </style>\n",
       "    \n",
       "        <div class=\"alectryon-root alectryon-centered\">\n",
       "            <pre class=\"alectryon-io highlight\"><!-- Generator: Alectryon --><span class=\"alectryon-sentence\"><input class=\"alectryon-toggle\" id=\"chk1\" style=\"display: none\" type=\"checkbox\"><label class=\"alectryon-input\" for=\"chk1\"><span class=\"bp\">#</span>eval<span class=\"w\"> </span>hello</label><small class=\"alectryon-output\"><div><div class=\"alectryon-messages\"><blockquote class=\"alectryon-message\"> <span class=\"s2\">&quot;world&quot;</span></blockquote></div></div></small></span></pre>\n",
       "<pre class=\"alectryon-io highlight\"><!-- Generator: Alectryon --><span class=\"alectryon-sentence\"><span class=\"alectryon-input\"><span class=\"c1\">--% env 2</span></span></span></pre>\n",
       "        </div>\n",
       "        <details>\n",
       "            <summary>Raw input</summary>\n",
       "            <code>{\"cmd\": \"#eval hello\", \"env\": 1}</code>\n",
       "        </details>\n",
       "        <details>\n",
       "            <summary>Raw output</summary>\n",
       "            <code>{\"messages\":\r\n",
       " [{\"severity\": \"info\",\r\n",
       "   \"pos\": {\"line\": 1, \"column\": 0},\r\n",
       "   \"endPos\": {\"line\": 1, \"column\": 5},\r\n",
       "   \"data\": \"\\\"world\\\"\"}],\r\n",
       " \"env\": 2}</code>\n",
       "        </details>\n",
       "    "
      ],
      "text/plain": [
       "#eval hello\n",
       "─────▶  \"world\"\n",
       "--% env 2\n",
       "\n",
       "Raw input:\n",
       "{\"cmd\": \"#eval hello\", \"env\": 1}\n",
       "Raw output:\n",
       "{\"messages\":\r\n",
       " [{\"severity\": \"info\",\r\n",
       "   \"pos\": {\"line\": 1, \"column\": 0},\r\n",
       "   \"endPos\": {\"line\": 1, \"column\": 5},\r\n",
       "   \"data\": \"\\\"world\\\"\"}],\r\n",
       " \"env\": 2}"
      ]
     },
     "metadata": {},
     "output_type": "display_data"
    }
   ],
   "source": [
    "#eval hello"
   ]
  },
  {
   "cell_type": "markdown",
   "id": "b5ddd534-8408-4259-b845-b0ca77e7605d",
   "metadata": {
    "papermill": {
     "duration": 0.002284,
     "end_time": "2024-06-03T09:48:51.493117",
     "exception": false,
     "start_time": "2024-06-03T09:48:51.490833",
     "status": "completed"
    },
    "tags": []
   },
   "source": [
    "## Importing in the middle of a notebook\n",
    "\n",
    "Lean only allows import at the beginning of a \"file\". But in Jupyter notebook, not only you can import at the beginning of a notebook, you can also do so in the middle of a notebook by resetting the environment to an empty one using `--%env` or simply `%env`."
   ]
  },
  {
   "cell_type": "code",
   "execution_count": 4,
   "id": "5f7ad55f-28ef-450a-9e77-acd87bcfcae4",
   "metadata": {
    "execution": {
     "iopub.execute_input": "2024-06-03T09:48:51.499558Z",
     "iopub.status.busy": "2024-06-03T09:48:51.499126Z",
     "iopub.status.idle": "2024-06-03T09:49:03.332779Z",
     "shell.execute_reply": "2024-06-03T09:49:03.331943Z"
    },
    "papermill": {
     "duration": 11.840525,
     "end_time": "2024-06-03T09:49:03.336018",
     "exception": false,
     "start_time": "2024-06-03T09:48:51.495493",
     "status": "completed"
    },
    "tags": []
   },
   "outputs": [
    {
     "data": {
      "text/html": [
       "\n",
       "        \n",
       "        <link rel=\"stylesheet\" href=\"https://lean-lang.org/lean4/doc/alectryon.css\">\n",
       "        <link rel=\"stylesheet\" href=\"https://lean-lang.org/lean4/doc/pygments.css\">\n",
       "        <script src=\"https://lean-lang.org/lean4/doc/alectryon.js\"></script>\n",
       "        <script src=\"https://lean-lang.org/lean4/doc/highlight.js\"></script>\n",
       "        <style>\n",
       "            @media (any-hover: hover) {\n",
       "                .alectryon-io .alectryon-sentence:hover .alectryon-output,\n",
       "                .alectryon-io .alectryon-token:hover .alectryon-type-info-wrapper,\n",
       "                .alectryon-io .alectryon-token:hover .alectryon-type-info-wrapper {\n",
       "                    position: unset;\n",
       "                }\n",
       "            }\n",
       "\n",
       "            .highlight .w, .code .w {\n",
       "                color: #d3d7cf;\n",
       "                text-decoration: none;\n",
       "            }\n",
       "\n",
       "            body[data-jp-theme-light=\"false\"] .alectryon-io .alectryon-goals,\n",
       "            body[data-jp-theme-light=\"false\"] .alectryon-io .alectryon-messages,\n",
       "            body[data-jp-theme-light=\"false\"] .alectryon-io .alectryon-goal,\n",
       "            body[data-jp-theme-light=\"false\"] .alectryon-io .alectryon-message {\n",
       "                background: black;\n",
       "            }\n",
       "        </style>\n",
       "    \n",
       "        <div class=\"alectryon-root alectryon-centered\">\n",
       "            <pre class=\"alectryon-io highlight\"><!-- Generator: Alectryon --><span class=\"alectryon-sentence\"><span class=\"alectryon-input\"><span class=\"c1\">--%env</span></span></span></pre>\n",
       "<pre class=\"alectryon-io highlight\"><!-- Generator: Alectryon --><span class=\"alectryon-sentence\"><span class=\"alectryon-input\"><span class=\"kn\">import</span><span class=\"w\"> </span>Mathlib</span></span></pre>\n",
       "<pre class=\"alectryon-io highlight\"><!-- Generator: Alectryon --><span class=\"alectryon-sentence\"><span class=\"alectryon-input\"><span class=\"c1\">--% env 3</span></span></span></pre>\n",
       "        </div>\n",
       "        <details>\n",
       "            <summary>Raw input</summary>\n",
       "            <code>{\"cmd\": \"--%env\\nimport Mathlib\"}</code>\n",
       "        </details>\n",
       "        <details>\n",
       "            <summary>Raw output</summary>\n",
       "            <code>{\"env\": 3}</code>\n",
       "        </details>\n",
       "    "
      ],
      "text/plain": [
       "--%env\n",
       "import Mathlib\n",
       "--% env 3\n",
       "\n",
       "Raw input:\n",
       "{\"cmd\": \"--%env\\nimport Mathlib\"}\n",
       "Raw output:\n",
       "{\"env\": 3}"
      ]
     },
     "metadata": {},
     "output_type": "display_data"
    }
   ],
   "source": [
    "%env\n",
    "import Mathlib"
   ]
  },
  {
   "cell_type": "code",
   "execution_count": 5,
   "id": "b0465a38-4c08-44c6-8294-11e1bd4d8c43",
   "metadata": {
    "execution": {
     "iopub.execute_input": "2024-06-03T09:49:03.342310Z",
     "iopub.status.busy": "2024-06-03T09:49:03.342154Z",
     "iopub.status.idle": "2024-06-03T09:49:03.460927Z",
     "shell.execute_reply": "2024-06-03T09:49:03.460162Z"
    },
    "papermill": {
     "duration": 0.123265,
     "end_time": "2024-06-03T09:49:03.462297",
     "exception": false,
     "start_time": "2024-06-03T09:49:03.339032",
     "status": "completed"
    },
    "tags": []
   },
   "outputs": [
    {
     "data": {
      "text/html": [
       "\n",
       "        \n",
       "        <link rel=\"stylesheet\" href=\"https://lean-lang.org/lean4/doc/alectryon.css\">\n",
       "        <link rel=\"stylesheet\" href=\"https://lean-lang.org/lean4/doc/pygments.css\">\n",
       "        <script src=\"https://lean-lang.org/lean4/doc/alectryon.js\"></script>\n",
       "        <script src=\"https://lean-lang.org/lean4/doc/highlight.js\"></script>\n",
       "        <style>\n",
       "            @media (any-hover: hover) {\n",
       "                .alectryon-io .alectryon-sentence:hover .alectryon-output,\n",
       "                .alectryon-io .alectryon-token:hover .alectryon-type-info-wrapper,\n",
       "                .alectryon-io .alectryon-token:hover .alectryon-type-info-wrapper {\n",
       "                    position: unset;\n",
       "                }\n",
       "            }\n",
       "\n",
       "            .highlight .w, .code .w {\n",
       "                color: #d3d7cf;\n",
       "                text-decoration: none;\n",
       "            }\n",
       "\n",
       "            body[data-jp-theme-light=\"false\"] .alectryon-io .alectryon-goals,\n",
       "            body[data-jp-theme-light=\"false\"] .alectryon-io .alectryon-messages,\n",
       "            body[data-jp-theme-light=\"false\"] .alectryon-io .alectryon-goal,\n",
       "            body[data-jp-theme-light=\"false\"] .alectryon-io .alectryon-message {\n",
       "                background: black;\n",
       "            }\n",
       "        </style>\n",
       "    \n",
       "        <div class=\"alectryon-root alectryon-centered\">\n",
       "            <pre class=\"alectryon-io highlight\"><!-- Generator: Alectryon --><span class=\"alectryon-sentence\"><input class=\"alectryon-toggle\" id=\"chk2\" style=\"display: none\" type=\"checkbox\"><label class=\"alectryon-input\" for=\"chk2\"><span class=\"bp\">#</span>check<span class=\"w\"> </span>CliffordAlgebra</label><small class=\"alectryon-output\"><div><div class=\"alectryon-messages\"><blockquote class=\"alectryon-message\"> CliffordAlgebra<span class=\"bp\">.</span>{u_2,<span class=\"w\"> </span>u_1}<span class=\"w\"> </span>{R<span class=\"w\"> </span>:<span class=\"w\"> </span><span class=\"kt\">Type</span><span class=\"w\"> </span>u_1}<span class=\"w\"> </span>[CommRing<span class=\"w\"> </span>R]<span class=\"w\"> </span>{M<span class=\"w\"> </span>:<span class=\"w\"> </span><span class=\"kt\">Type</span><span class=\"w\"> </span>u_2}<span class=\"w\"> </span>[AddCommGroup<span class=\"w\"> </span>M]<span class=\"w\"> </span>[Module<span class=\"w\"> </span>R<span class=\"w\"> </span>M]\n",
       "<span class=\"w\">  </span>(Q<span class=\"w\"> </span>:<span class=\"w\"> </span>QuadraticForm<span class=\"w\"> </span>R<span class=\"w\"> </span>M)<span class=\"w\"> </span>:<span class=\"w\"> </span><span class=\"kt\">Type</span><span class=\"w\"> </span>(max<span class=\"w\"> </span>u_2<span class=\"w\"> </span>u_1)</blockquote></div></div></small></span></pre>\n",
       "<pre class=\"alectryon-io highlight\"><!-- Generator: Alectryon --><span class=\"alectryon-sentence\"><span class=\"alectryon-input\"><span class=\"c1\">--% env 4</span></span></span></pre>\n",
       "        </div>\n",
       "        <details>\n",
       "            <summary>Raw input</summary>\n",
       "            <code>{\"cmd\": \"#check CliffordAlgebra\", \"env\": 3}</code>\n",
       "        </details>\n",
       "        <details>\n",
       "            <summary>Raw output</summary>\n",
       "            <code>{\"messages\":\r\n",
       " [{\"severity\": \"info\",\r\n",
       "   \"pos\": {\"line\": 1, \"column\": 0},\r\n",
       "   \"endPos\": {\"line\": 1, \"column\": 6},\r\n",
       "   \"data\":\r\n",
       "   \"CliffordAlgebra.{u_2, u_1} {R : Type u_1} [CommRing R] {M : Type u_2} [AddCommGroup M] [Module R M]\\n  (Q : QuadraticForm R M) : Type (max u_2 u_1)\"}],\r\n",
       " \"env\": 4}</code>\n",
       "        </details>\n",
       "    "
      ],
      "text/plain": [
       "#check CliffordAlgebra\n",
       "──────▶  CliffordAlgebra.{u_2, u_1} {R : Type u_1} [CommRing R] {M : Type u_2} [AddCommGroup M] [Module R M]\n",
       "  (Q : QuadraticForm R M) : Type (max u_2 u_1)\n",
       "--% env 4\n",
       "\n",
       "Raw input:\n",
       "{\"cmd\": \"#check CliffordAlgebra\", \"env\": 3}\n",
       "Raw output:\n",
       "{\"messages\":\r\n",
       " [{\"severity\": \"info\",\r\n",
       "   \"pos\": {\"line\": 1, \"column\": 0},\r\n",
       "   \"endPos\": {\"line\": 1, \"column\": 6},\r\n",
       "   \"data\":\r\n",
       "   \"CliffordAlgebra.{u_2, u_1} {R : Type u_1} [CommRing R] {M : Type u_2} [AddCommGroup M] [Module R M]\\n  (Q : QuadraticForm R M) : Type (max u_2 u_1)\"}],\r\n",
       " \"env\": 4}"
      ]
     },
     "metadata": {},
     "output_type": "display_data"
    }
   ],
   "source": [
    "#check CliffordAlgebra"
   ]
  },
  {
   "cell_type": "markdown",
   "id": "ee47fe44-dcc8-4690-bdc5-ec1c1268f74e",
   "metadata": {
    "papermill": {
     "duration": 0.001907,
     "end_time": "2024-06-03T09:49:03.466403",
     "exception": false,
     "start_time": "2024-06-03T09:49:03.464496",
     "status": "completed"
    },
    "tags": []
   },
   "source": [
    "Note that you'll lose previous imports everytime you reset the environment."
   ]
  },
  {
   "cell_type": "code",
   "execution_count": 6,
   "id": "942b8c92-9bd5-4922-86e3-fdd80cec0b7d",
   "metadata": {
    "execution": {
     "iopub.execute_input": "2024-06-03T09:49:03.471528Z",
     "iopub.status.busy": "2024-06-03T09:49:03.471241Z",
     "iopub.status.idle": "2024-06-03T09:49:08.396981Z",
     "shell.execute_reply": "2024-06-03T09:49:08.396319Z"
    },
    "papermill": {
     "duration": 4.930108,
     "end_time": "2024-06-03T09:49:08.398466",
     "exception": false,
     "start_time": "2024-06-03T09:49:03.468358",
     "status": "completed"
    },
    "tags": []
   },
   "outputs": [
    {
     "data": {
      "text/html": [
       "\n",
       "        \n",
       "        <link rel=\"stylesheet\" href=\"https://lean-lang.org/lean4/doc/alectryon.css\">\n",
       "        <link rel=\"stylesheet\" href=\"https://lean-lang.org/lean4/doc/pygments.css\">\n",
       "        <script src=\"https://lean-lang.org/lean4/doc/alectryon.js\"></script>\n",
       "        <script src=\"https://lean-lang.org/lean4/doc/highlight.js\"></script>\n",
       "        <style>\n",
       "            @media (any-hover: hover) {\n",
       "                .alectryon-io .alectryon-sentence:hover .alectryon-output,\n",
       "                .alectryon-io .alectryon-token:hover .alectryon-type-info-wrapper,\n",
       "                .alectryon-io .alectryon-token:hover .alectryon-type-info-wrapper {\n",
       "                    position: unset;\n",
       "                }\n",
       "            }\n",
       "\n",
       "            .highlight .w, .code .w {\n",
       "                color: #d3d7cf;\n",
       "                text-decoration: none;\n",
       "            }\n",
       "\n",
       "            body[data-jp-theme-light=\"false\"] .alectryon-io .alectryon-goals,\n",
       "            body[data-jp-theme-light=\"false\"] .alectryon-io .alectryon-messages,\n",
       "            body[data-jp-theme-light=\"false\"] .alectryon-io .alectryon-goal,\n",
       "            body[data-jp-theme-light=\"false\"] .alectryon-io .alectryon-message {\n",
       "                background: black;\n",
       "            }\n",
       "        </style>\n",
       "    \n",
       "        <div class=\"alectryon-root alectryon-centered\">\n",
       "            <pre class=\"alectryon-io highlight\"><!-- Generator: Alectryon --><span class=\"alectryon-sentence\"><span class=\"alectryon-input\"><span class=\"c1\">--%env</span></span></span></pre>\n",
       "<pre class=\"alectryon-io highlight\"><!-- Generator: Alectryon --><span class=\"alectryon-sentence\"><span class=\"alectryon-input\"><span class=\"kn\">import</span><span class=\"w\"> </span>Mathlib<span class=\"bp\">.</span>Tactic</span></span></pre>\n",
       "<pre class=\"alectryon-io highlight\"><!-- Generator: Alectryon --><span class=\"alectryon-sentence\"><span class=\"alectryon-input\"><span class=\"c1\">--% env 5</span></span></span></pre>\n",
       "        </div>\n",
       "        <details>\n",
       "            <summary>Raw input</summary>\n",
       "            <code>{\"cmd\": \"--%env\\nimport Mathlib.Tactic\"}</code>\n",
       "        </details>\n",
       "        <details>\n",
       "            <summary>Raw output</summary>\n",
       "            <code>{\"env\": 5}</code>\n",
       "        </details>\n",
       "    "
      ],
      "text/plain": [
       "--%env\n",
       "import Mathlib.Tactic\n",
       "--% env 5\n",
       "\n",
       "Raw input:\n",
       "{\"cmd\": \"--%env\\nimport Mathlib.Tactic\"}\n",
       "Raw output:\n",
       "{\"env\": 5}"
      ]
     },
     "metadata": {},
     "output_type": "display_data"
    }
   ],
   "source": [
    "%env\n",
    "import Mathlib.Tactic"
   ]
  },
  {
   "cell_type": "markdown",
   "id": "5d3d8ac8-c758-4f65-9b75-19a0ba4eaa58",
   "metadata": {
    "papermill": {
     "duration": 0.002625,
     "end_time": "2024-06-03T09:49:08.403694",
     "exception": false,
     "start_time": "2024-06-03T09:49:08.401069",
     "status": "completed"
    },
    "tags": []
   },
   "source": [
    "The previous `Mathlib` import is lost, so the following will fail."
   ]
  },
  {
   "cell_type": "code",
   "execution_count": 7,
   "id": "16dd6d6c-ab7f-4a22-abff-d401a88e369a",
   "metadata": {
    "execution": {
     "iopub.execute_input": "2024-06-03T09:49:08.410474Z",
     "iopub.status.busy": "2024-06-03T09:49:08.410219Z",
     "iopub.status.idle": "2024-06-03T09:49:08.521152Z",
     "shell.execute_reply": "2024-06-03T09:49:08.520810Z"
    },
    "papermill": {
     "duration": 0.11611,
     "end_time": "2024-06-03T09:49:08.522435",
     "exception": false,
     "start_time": "2024-06-03T09:49:08.406325",
     "status": "completed"
    },
    "tags": []
   },
   "outputs": [
    {
     "data": {
      "text/html": [
       "\n",
       "        \n",
       "        <link rel=\"stylesheet\" href=\"https://lean-lang.org/lean4/doc/alectryon.css\">\n",
       "        <link rel=\"stylesheet\" href=\"https://lean-lang.org/lean4/doc/pygments.css\">\n",
       "        <script src=\"https://lean-lang.org/lean4/doc/alectryon.js\"></script>\n",
       "        <script src=\"https://lean-lang.org/lean4/doc/highlight.js\"></script>\n",
       "        <style>\n",
       "            @media (any-hover: hover) {\n",
       "                .alectryon-io .alectryon-sentence:hover .alectryon-output,\n",
       "                .alectryon-io .alectryon-token:hover .alectryon-type-info-wrapper,\n",
       "                .alectryon-io .alectryon-token:hover .alectryon-type-info-wrapper {\n",
       "                    position: unset;\n",
       "                }\n",
       "            }\n",
       "\n",
       "            .highlight .w, .code .w {\n",
       "                color: #d3d7cf;\n",
       "                text-decoration: none;\n",
       "            }\n",
       "\n",
       "            body[data-jp-theme-light=\"false\"] .alectryon-io .alectryon-goals,\n",
       "            body[data-jp-theme-light=\"false\"] .alectryon-io .alectryon-messages,\n",
       "            body[data-jp-theme-light=\"false\"] .alectryon-io .alectryon-goal,\n",
       "            body[data-jp-theme-light=\"false\"] .alectryon-io .alectryon-message {\n",
       "                background: black;\n",
       "            }\n",
       "        </style>\n",
       "    \n",
       "        <div class=\"alectryon-root alectryon-centered\">\n",
       "            <pre class=\"alectryon-io highlight\"><!-- Generator: Alectryon --><span class=\"alectryon-sentence\"><input class=\"alectryon-toggle\" id=\"chk3\" style=\"display: none\" type=\"checkbox\"><label class=\"alectryon-input\" for=\"chk3\"><span class=\"bp\">#</span>check<span class=\"w\"> </span>CliffordAlgebra</label><small class=\"alectryon-output\"><div><div class=\"alectryon-messages\"><blockquote class=\"alectryon-message\"><span class=\"bp\">❌</span><span class=\"w\"> </span>unknown<span class=\"w\"> </span>identifier<span class=\"w\"> </span><span class=\"bp\">&#39;</span>CliffordAlgebra&#39;</blockquote></div></div></small></span></pre>\n",
       "<pre class=\"alectryon-io highlight\"><!-- Generator: Alectryon --><span class=\"alectryon-sentence\"><span class=\"alectryon-input\"><span class=\"c1\">--% env 6</span></span></span></pre>\n",
       "        </div>\n",
       "        <details>\n",
       "            <summary>Raw input</summary>\n",
       "            <code>{\"cmd\": \"#check CliffordAlgebra\", \"env\": 5}</code>\n",
       "        </details>\n",
       "        <details>\n",
       "            <summary>Raw output</summary>\n",
       "            <code>{\"messages\":\r\n",
       " [{\"severity\": \"error\",\r\n",
       "   \"pos\": {\"line\": 1, \"column\": 7},\r\n",
       "   \"endPos\": {\"line\": 1, \"column\": 22},\r\n",
       "   \"data\": \"unknown identifier 'CliffordAlgebra'\"}],\r\n",
       " \"env\": 6}</code>\n",
       "        </details>\n",
       "    "
      ],
      "text/plain": [
       "#check CliffordAlgebra\n",
       "       ───────────────▶ ❌ unknown identifier 'CliffordAlgebra'\n",
       "--% env 6\n",
       "\n",
       "Raw input:\n",
       "{\"cmd\": \"#check CliffordAlgebra\", \"env\": 5}\n",
       "Raw output:\n",
       "{\"messages\":\r\n",
       " [{\"severity\": \"error\",\r\n",
       "   \"pos\": {\"line\": 1, \"column\": 7},\r\n",
       "   \"endPos\": {\"line\": 1, \"column\": 22},\r\n",
       "   \"data\": \"unknown identifier 'CliffordAlgebra'\"}],\r\n",
       " \"env\": 6}"
      ]
     },
     "metadata": {},
     "output_type": "display_data"
    }
   ],
   "source": [
    "#check CliffordAlgebra"
   ]
  },
  {
   "cell_type": "markdown",
   "id": "9f3930a0-bd43-459a-b98a-3610b6300a3e",
   "metadata": {
    "papermill": {
     "duration": 0.002291,
     "end_time": "2024-06-03T09:49:08.527199",
     "exception": false,
     "start_time": "2024-06-03T09:49:08.524908",
     "status": "completed"
    },
    "tags": []
   },
   "source": [
    "But the following will succeed because `import Mathlib.Tactic` succeeded."
   ]
  },
  {
   "cell_type": "code",
   "execution_count": 8,
   "id": "4db21e45-512f-4734-affb-0d4d9efd2418",
   "metadata": {
    "execution": {
     "iopub.execute_input": "2024-06-03T09:49:08.532633Z",
     "iopub.status.busy": "2024-06-03T09:49:08.532350Z",
     "iopub.status.idle": "2024-06-03T09:49:08.646371Z",
     "shell.execute_reply": "2024-06-03T09:49:08.645889Z"
    },
    "papermill": {
     "duration": 0.118222,
     "end_time": "2024-06-03T09:49:08.647648",
     "exception": false,
     "start_time": "2024-06-03T09:49:08.529426",
     "status": "completed"
    },
    "tags": []
   },
   "outputs": [
    {
     "data": {
      "text/html": [
       "\n",
       "        \n",
       "        <link rel=\"stylesheet\" href=\"https://lean-lang.org/lean4/doc/alectryon.css\">\n",
       "        <link rel=\"stylesheet\" href=\"https://lean-lang.org/lean4/doc/pygments.css\">\n",
       "        <script src=\"https://lean-lang.org/lean4/doc/alectryon.js\"></script>\n",
       "        <script src=\"https://lean-lang.org/lean4/doc/highlight.js\"></script>\n",
       "        <style>\n",
       "            @media (any-hover: hover) {\n",
       "                .alectryon-io .alectryon-sentence:hover .alectryon-output,\n",
       "                .alectryon-io .alectryon-token:hover .alectryon-type-info-wrapper,\n",
       "                .alectryon-io .alectryon-token:hover .alectryon-type-info-wrapper {\n",
       "                    position: unset;\n",
       "                }\n",
       "            }\n",
       "\n",
       "            .highlight .w, .code .w {\n",
       "                color: #d3d7cf;\n",
       "                text-decoration: none;\n",
       "            }\n",
       "\n",
       "            body[data-jp-theme-light=\"false\"] .alectryon-io .alectryon-goals,\n",
       "            body[data-jp-theme-light=\"false\"] .alectryon-io .alectryon-messages,\n",
       "            body[data-jp-theme-light=\"false\"] .alectryon-io .alectryon-goal,\n",
       "            body[data-jp-theme-light=\"false\"] .alectryon-io .alectryon-message {\n",
       "                background: black;\n",
       "            }\n",
       "        </style>\n",
       "    \n",
       "        <div class=\"alectryon-root alectryon-centered\">\n",
       "            <pre class=\"alectryon-io highlight\"><!-- Generator: Alectryon --><span class=\"alectryon-sentence\"><input class=\"alectryon-toggle\" id=\"chk4\" style=\"display: none\" type=\"checkbox\"><label class=\"alectryon-input\" for=\"chk4\"><span class=\"bp\">#</span>check<span class=\"w\"> </span>Algebra</label><small class=\"alectryon-output\"><div><div class=\"alectryon-messages\"><blockquote class=\"alectryon-message\"> Algebra<span class=\"bp\">.</span>{u,<span class=\"w\"> </span>v}<span class=\"w\"> </span>(R<span class=\"w\"> </span>:<span class=\"w\"> </span><span class=\"kt\">Type</span><span class=\"w\"> </span>u)<span class=\"w\"> </span>(A<span class=\"w\"> </span>:<span class=\"w\"> </span><span class=\"kt\">Type</span><span class=\"w\"> </span>v)<span class=\"w\"> </span>[CommSemiring<span class=\"w\"> </span>R]<span class=\"w\"> </span>[Semiring<span class=\"w\"> </span>A]<span class=\"w\"> </span>:<span class=\"w\"> </span><span class=\"kt\">Type</span><span class=\"w\"> </span>(max<span class=\"w\"> </span>u<span class=\"w\"> </span>v)</blockquote></div></div></small></span></pre>\n",
       "<pre class=\"alectryon-io highlight\"><!-- Generator: Alectryon --><span class=\"alectryon-sentence\"><span class=\"alectryon-input\"><span class=\"c1\">--% env 7</span></span></span></pre>\n",
       "        </div>\n",
       "        <details>\n",
       "            <summary>Raw input</summary>\n",
       "            <code>{\"cmd\": \"#check Algebra\", \"env\": 6}</code>\n",
       "        </details>\n",
       "        <details>\n",
       "            <summary>Raw output</summary>\n",
       "            <code>{\"messages\":\r\n",
       " [{\"severity\": \"info\",\r\n",
       "   \"pos\": {\"line\": 1, \"column\": 0},\r\n",
       "   \"endPos\": {\"line\": 1, \"column\": 6},\r\n",
       "   \"data\":\r\n",
       "   \"Algebra.{u, v} (R : Type u) (A : Type v) [CommSemiring R] [Semiring A] : Type (max u v)\"}],\r\n",
       " \"env\": 7}</code>\n",
       "        </details>\n",
       "    "
      ],
      "text/plain": [
       "#check Algebra\n",
       "──────▶  Algebra.{u, v} (R : Type u) (A : Type v) [CommSemiring R] [Semiring A] : Type (max u v)\n",
       "--% env 7\n",
       "\n",
       "Raw input:\n",
       "{\"cmd\": \"#check Algebra\", \"env\": 6}\n",
       "Raw output:\n",
       "{\"messages\":\r\n",
       " [{\"severity\": \"info\",\r\n",
       "   \"pos\": {\"line\": 1, \"column\": 0},\r\n",
       "   \"endPos\": {\"line\": 1, \"column\": 6},\r\n",
       "   \"data\":\r\n",
       "   \"Algebra.{u, v} (R : Type u) (A : Type v) [CommSemiring R] [Semiring A] : Type (max u v)\"}],\r\n",
       " \"env\": 7}"
      ]
     },
     "metadata": {},
     "output_type": "display_data"
    }
   ],
   "source": [
    "#check Algebra"
   ]
  },
  {
   "cell_type": "code",
   "execution_count": null,
   "id": "10299896-be20-4d52-ba03-a0011ca0d470",
   "metadata": {
    "papermill": {
     "duration": 0.002476,
     "end_time": "2024-06-03T09:49:08.652796",
     "exception": false,
     "start_time": "2024-06-03T09:49:08.650320",
     "status": "completed"
    },
    "tags": []
   },
   "outputs": [],
   "source": []
  }
 ],
 "metadata": {
  "kernelspec": {
   "display_name": "Lean 4",
   "language": "lean4",
   "name": "lean4"
  },
  "language_info": {
   "codemirror_mode": "python",
   "file_extension": ".lean",
   "mimetype": "text/x-lean4",
   "name": "lean4"
  },
  "papermill": {
   "default_parameters": {},
   "duration": 31.457667,
   "end_time": "2024-06-03T09:49:08.874598",
   "environment_variables": {},
   "exception": null,
   "parameters": {},
   "start_time": "2024-06-03T09:48:37.416931",
   "version": "2.6.0"
  }
 },
 "nbformat": 4,
 "nbformat_minor": 5
}